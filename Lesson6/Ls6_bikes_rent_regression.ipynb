{
 "cells": [
  {
   "cell_type": "markdown",
   "id": "b94793a0",
   "metadata": {},
   "source": [
    "# Первичная подготовка данных(визуализация)"
   ]
  },
  {
   "cell_type": "code",
   "execution_count": 210,
   "id": "518a9e21",
   "metadata": {},
   "outputs": [],
   "source": [
    "import pandas as pd\n",
    "import numpy as np\n",
    "import matplotlib.pyplot as plt\n",
    "import seaborn as sns\n",
    "\n",
    "from sklearn.linear_model import LinearRegression,Lasso,Ridge,LassoCV,RidgeCV\n",
    "from sklearn.preprocessing import StandardScaler\n",
    "from sklearn.metrics import mean_squared_error\n",
    "from sklearn.ensemble import RandomForestRegressor\n",
    "\n",
    "%matplotlib inline"
   ]
  },
  {
   "cell_type": "code",
   "execution_count": 172,
   "id": "15c1afc4",
   "metadata": {},
   "outputs": [
    {
     "data": {
      "text/html": [
       "<div>\n",
       "<style scoped>\n",
       "    .dataframe tbody tr th:only-of-type {\n",
       "        vertical-align: middle;\n",
       "    }\n",
       "\n",
       "    .dataframe tbody tr th {\n",
       "        vertical-align: top;\n",
       "    }\n",
       "\n",
       "    .dataframe thead th {\n",
       "        text-align: right;\n",
       "    }\n",
       "</style>\n",
       "<table border=\"1\" class=\"dataframe\">\n",
       "  <thead>\n",
       "    <tr style=\"text-align: right;\">\n",
       "      <th></th>\n",
       "      <th>season</th>\n",
       "      <th>yr</th>\n",
       "      <th>mnth</th>\n",
       "      <th>holiday</th>\n",
       "      <th>weekday</th>\n",
       "      <th>workingday</th>\n",
       "      <th>weathersit</th>\n",
       "      <th>temp</th>\n",
       "      <th>atemp</th>\n",
       "      <th>hum</th>\n",
       "      <th>windspeed(mph)</th>\n",
       "      <th>windspeed(ms)</th>\n",
       "      <th>cnt</th>\n",
       "    </tr>\n",
       "  </thead>\n",
       "  <tbody>\n",
       "    <tr>\n",
       "      <th>0</th>\n",
       "      <td>1</td>\n",
       "      <td>0</td>\n",
       "      <td>1</td>\n",
       "      <td>0</td>\n",
       "      <td>6</td>\n",
       "      <td>0</td>\n",
       "      <td>2</td>\n",
       "      <td>14.110847</td>\n",
       "      <td>18.18125</td>\n",
       "      <td>80.5833</td>\n",
       "      <td>10.749882</td>\n",
       "      <td>4.805490</td>\n",
       "      <td>985</td>\n",
       "    </tr>\n",
       "    <tr>\n",
       "      <th>1</th>\n",
       "      <td>1</td>\n",
       "      <td>0</td>\n",
       "      <td>1</td>\n",
       "      <td>0</td>\n",
       "      <td>0</td>\n",
       "      <td>0</td>\n",
       "      <td>2</td>\n",
       "      <td>14.902598</td>\n",
       "      <td>17.68695</td>\n",
       "      <td>69.6087</td>\n",
       "      <td>16.652113</td>\n",
       "      <td>7.443949</td>\n",
       "      <td>801</td>\n",
       "    </tr>\n",
       "    <tr>\n",
       "      <th>2</th>\n",
       "      <td>1</td>\n",
       "      <td>0</td>\n",
       "      <td>1</td>\n",
       "      <td>0</td>\n",
       "      <td>1</td>\n",
       "      <td>1</td>\n",
       "      <td>1</td>\n",
       "      <td>8.050924</td>\n",
       "      <td>9.47025</td>\n",
       "      <td>43.7273</td>\n",
       "      <td>16.636703</td>\n",
       "      <td>7.437060</td>\n",
       "      <td>1349</td>\n",
       "    </tr>\n",
       "    <tr>\n",
       "      <th>3</th>\n",
       "      <td>1</td>\n",
       "      <td>0</td>\n",
       "      <td>1</td>\n",
       "      <td>0</td>\n",
       "      <td>2</td>\n",
       "      <td>1</td>\n",
       "      <td>1</td>\n",
       "      <td>8.200000</td>\n",
       "      <td>10.60610</td>\n",
       "      <td>59.0435</td>\n",
       "      <td>10.739832</td>\n",
       "      <td>4.800998</td>\n",
       "      <td>1562</td>\n",
       "    </tr>\n",
       "    <tr>\n",
       "      <th>4</th>\n",
       "      <td>1</td>\n",
       "      <td>0</td>\n",
       "      <td>1</td>\n",
       "      <td>0</td>\n",
       "      <td>3</td>\n",
       "      <td>1</td>\n",
       "      <td>1</td>\n",
       "      <td>9.305237</td>\n",
       "      <td>11.46350</td>\n",
       "      <td>43.6957</td>\n",
       "      <td>12.522300</td>\n",
       "      <td>5.597810</td>\n",
       "      <td>1600</td>\n",
       "    </tr>\n",
       "    <tr>\n",
       "      <th>...</th>\n",
       "      <td>...</td>\n",
       "      <td>...</td>\n",
       "      <td>...</td>\n",
       "      <td>...</td>\n",
       "      <td>...</td>\n",
       "      <td>...</td>\n",
       "      <td>...</td>\n",
       "      <td>...</td>\n",
       "      <td>...</td>\n",
       "      <td>...</td>\n",
       "      <td>...</td>\n",
       "      <td>...</td>\n",
       "      <td>...</td>\n",
       "    </tr>\n",
       "    <tr>\n",
       "      <th>726</th>\n",
       "      <td>1</td>\n",
       "      <td>1</td>\n",
       "      <td>12</td>\n",
       "      <td>0</td>\n",
       "      <td>4</td>\n",
       "      <td>1</td>\n",
       "      <td>2</td>\n",
       "      <td>10.420847</td>\n",
       "      <td>11.33210</td>\n",
       "      <td>65.2917</td>\n",
       "      <td>23.458911</td>\n",
       "      <td>10.486773</td>\n",
       "      <td>2114</td>\n",
       "    </tr>\n",
       "    <tr>\n",
       "      <th>727</th>\n",
       "      <td>1</td>\n",
       "      <td>1</td>\n",
       "      <td>12</td>\n",
       "      <td>0</td>\n",
       "      <td>5</td>\n",
       "      <td>1</td>\n",
       "      <td>2</td>\n",
       "      <td>10.386653</td>\n",
       "      <td>12.75230</td>\n",
       "      <td>59.0000</td>\n",
       "      <td>10.416557</td>\n",
       "      <td>4.656485</td>\n",
       "      <td>3095</td>\n",
       "    </tr>\n",
       "    <tr>\n",
       "      <th>728</th>\n",
       "      <td>1</td>\n",
       "      <td>1</td>\n",
       "      <td>12</td>\n",
       "      <td>0</td>\n",
       "      <td>6</td>\n",
       "      <td>0</td>\n",
       "      <td>2</td>\n",
       "      <td>10.386653</td>\n",
       "      <td>12.12000</td>\n",
       "      <td>75.2917</td>\n",
       "      <td>8.333661</td>\n",
       "      <td>3.725374</td>\n",
       "      <td>1341</td>\n",
       "    </tr>\n",
       "    <tr>\n",
       "      <th>729</th>\n",
       "      <td>1</td>\n",
       "      <td>1</td>\n",
       "      <td>12</td>\n",
       "      <td>0</td>\n",
       "      <td>0</td>\n",
       "      <td>0</td>\n",
       "      <td>1</td>\n",
       "      <td>10.489153</td>\n",
       "      <td>11.58500</td>\n",
       "      <td>48.3333</td>\n",
       "      <td>23.500518</td>\n",
       "      <td>10.505372</td>\n",
       "      <td>1796</td>\n",
       "    </tr>\n",
       "    <tr>\n",
       "      <th>730</th>\n",
       "      <td>1</td>\n",
       "      <td>1</td>\n",
       "      <td>12</td>\n",
       "      <td>0</td>\n",
       "      <td>1</td>\n",
       "      <td>1</td>\n",
       "      <td>2</td>\n",
       "      <td>8.849153</td>\n",
       "      <td>11.17435</td>\n",
       "      <td>57.7500</td>\n",
       "      <td>10.374682</td>\n",
       "      <td>4.637766</td>\n",
       "      <td>2729</td>\n",
       "    </tr>\n",
       "  </tbody>\n",
       "</table>\n",
       "<p>731 rows × 13 columns</p>\n",
       "</div>"
      ],
      "text/plain": [
       "     season  yr  mnth  holiday  weekday  workingday  weathersit       temp  \\\n",
       "0         1   0     1        0        6           0           2  14.110847   \n",
       "1         1   0     1        0        0           0           2  14.902598   \n",
       "2         1   0     1        0        1           1           1   8.050924   \n",
       "3         1   0     1        0        2           1           1   8.200000   \n",
       "4         1   0     1        0        3           1           1   9.305237   \n",
       "..      ...  ..   ...      ...      ...         ...         ...        ...   \n",
       "726       1   1    12        0        4           1           2  10.420847   \n",
       "727       1   1    12        0        5           1           2  10.386653   \n",
       "728       1   1    12        0        6           0           2  10.386653   \n",
       "729       1   1    12        0        0           0           1  10.489153   \n",
       "730       1   1    12        0        1           1           2   8.849153   \n",
       "\n",
       "        atemp      hum  windspeed(mph)  windspeed(ms)   cnt  \n",
       "0    18.18125  80.5833       10.749882       4.805490   985  \n",
       "1    17.68695  69.6087       16.652113       7.443949   801  \n",
       "2     9.47025  43.7273       16.636703       7.437060  1349  \n",
       "3    10.60610  59.0435       10.739832       4.800998  1562  \n",
       "4    11.46350  43.6957       12.522300       5.597810  1600  \n",
       "..        ...      ...             ...            ...   ...  \n",
       "726  11.33210  65.2917       23.458911      10.486773  2114  \n",
       "727  12.75230  59.0000       10.416557       4.656485  3095  \n",
       "728  12.12000  75.2917        8.333661       3.725374  1341  \n",
       "729  11.58500  48.3333       23.500518      10.505372  1796  \n",
       "730  11.17435  57.7500       10.374682       4.637766  2729  \n",
       "\n",
       "[731 rows x 13 columns]"
      ]
     },
     "execution_count": 172,
     "metadata": {},
     "output_type": "execute_result"
    }
   ],
   "source": [
    "data = pd.read_csv('https://raw.githubusercontent.com/Yorko/mlcourse.ai/master/data/bikes_rent.csv')\n",
    "data"
   ]
  },
  {
   "cell_type": "code",
   "execution_count": 173,
   "id": "66b4edaa",
   "metadata": {},
   "outputs": [
    {
     "data": {
      "text/html": [
       "<div>\n",
       "<style scoped>\n",
       "    .dataframe tbody tr th:only-of-type {\n",
       "        vertical-align: middle;\n",
       "    }\n",
       "\n",
       "    .dataframe tbody tr th {\n",
       "        vertical-align: top;\n",
       "    }\n",
       "\n",
       "    .dataframe thead th {\n",
       "        text-align: right;\n",
       "    }\n",
       "</style>\n",
       "<table border=\"1\" class=\"dataframe\">\n",
       "  <thead>\n",
       "    <tr style=\"text-align: right;\">\n",
       "      <th></th>\n",
       "      <th>season</th>\n",
       "      <th>yr</th>\n",
       "      <th>mnth</th>\n",
       "      <th>holiday</th>\n",
       "      <th>weekday</th>\n",
       "      <th>workingday</th>\n",
       "      <th>weathersit</th>\n",
       "      <th>temp</th>\n",
       "      <th>atemp</th>\n",
       "      <th>hum</th>\n",
       "      <th>windspeed(mph)</th>\n",
       "      <th>windspeed(ms)</th>\n",
       "      <th>cnt</th>\n",
       "    </tr>\n",
       "  </thead>\n",
       "  <tbody>\n",
       "    <tr>\n",
       "      <th>count</th>\n",
       "      <td>731.000000</td>\n",
       "      <td>731.000000</td>\n",
       "      <td>731.000000</td>\n",
       "      <td>731.000000</td>\n",
       "      <td>731.000000</td>\n",
       "      <td>731.000000</td>\n",
       "      <td>731.000000</td>\n",
       "      <td>731.000000</td>\n",
       "      <td>731.000000</td>\n",
       "      <td>731.000000</td>\n",
       "      <td>731.000000</td>\n",
       "      <td>731.000000</td>\n",
       "      <td>731.000000</td>\n",
       "    </tr>\n",
       "    <tr>\n",
       "      <th>mean</th>\n",
       "      <td>2.496580</td>\n",
       "      <td>0.500684</td>\n",
       "      <td>6.519836</td>\n",
       "      <td>0.028728</td>\n",
       "      <td>2.997264</td>\n",
       "      <td>0.683995</td>\n",
       "      <td>1.395349</td>\n",
       "      <td>20.310776</td>\n",
       "      <td>23.717699</td>\n",
       "      <td>62.789406</td>\n",
       "      <td>12.762576</td>\n",
       "      <td>5.705220</td>\n",
       "      <td>4504.348837</td>\n",
       "    </tr>\n",
       "    <tr>\n",
       "      <th>std</th>\n",
       "      <td>1.110807</td>\n",
       "      <td>0.500342</td>\n",
       "      <td>3.451913</td>\n",
       "      <td>0.167155</td>\n",
       "      <td>2.004787</td>\n",
       "      <td>0.465233</td>\n",
       "      <td>0.544894</td>\n",
       "      <td>7.505091</td>\n",
       "      <td>8.148059</td>\n",
       "      <td>14.242910</td>\n",
       "      <td>5.192357</td>\n",
       "      <td>2.321125</td>\n",
       "      <td>1937.211452</td>\n",
       "    </tr>\n",
       "    <tr>\n",
       "      <th>min</th>\n",
       "      <td>1.000000</td>\n",
       "      <td>0.000000</td>\n",
       "      <td>1.000000</td>\n",
       "      <td>0.000000</td>\n",
       "      <td>0.000000</td>\n",
       "      <td>0.000000</td>\n",
       "      <td>1.000000</td>\n",
       "      <td>2.424346</td>\n",
       "      <td>3.953480</td>\n",
       "      <td>0.000000</td>\n",
       "      <td>1.500244</td>\n",
       "      <td>0.670650</td>\n",
       "      <td>22.000000</td>\n",
       "    </tr>\n",
       "    <tr>\n",
       "      <th>25%</th>\n",
       "      <td>2.000000</td>\n",
       "      <td>0.000000</td>\n",
       "      <td>4.000000</td>\n",
       "      <td>0.000000</td>\n",
       "      <td>1.000000</td>\n",
       "      <td>0.000000</td>\n",
       "      <td>1.000000</td>\n",
       "      <td>13.820424</td>\n",
       "      <td>16.892125</td>\n",
       "      <td>52.000000</td>\n",
       "      <td>9.041650</td>\n",
       "      <td>4.041864</td>\n",
       "      <td>3152.000000</td>\n",
       "    </tr>\n",
       "    <tr>\n",
       "      <th>50%</th>\n",
       "      <td>3.000000</td>\n",
       "      <td>1.000000</td>\n",
       "      <td>7.000000</td>\n",
       "      <td>0.000000</td>\n",
       "      <td>3.000000</td>\n",
       "      <td>1.000000</td>\n",
       "      <td>1.000000</td>\n",
       "      <td>20.431653</td>\n",
       "      <td>24.336650</td>\n",
       "      <td>62.666700</td>\n",
       "      <td>12.125325</td>\n",
       "      <td>5.420351</td>\n",
       "      <td>4548.000000</td>\n",
       "    </tr>\n",
       "    <tr>\n",
       "      <th>75%</th>\n",
       "      <td>3.000000</td>\n",
       "      <td>1.000000</td>\n",
       "      <td>10.000000</td>\n",
       "      <td>0.000000</td>\n",
       "      <td>5.000000</td>\n",
       "      <td>1.000000</td>\n",
       "      <td>2.000000</td>\n",
       "      <td>26.872076</td>\n",
       "      <td>30.430100</td>\n",
       "      <td>73.020850</td>\n",
       "      <td>15.625371</td>\n",
       "      <td>6.984967</td>\n",
       "      <td>5956.000000</td>\n",
       "    </tr>\n",
       "    <tr>\n",
       "      <th>max</th>\n",
       "      <td>4.000000</td>\n",
       "      <td>1.000000</td>\n",
       "      <td>12.000000</td>\n",
       "      <td>1.000000</td>\n",
       "      <td>6.000000</td>\n",
       "      <td>1.000000</td>\n",
       "      <td>3.000000</td>\n",
       "      <td>35.328347</td>\n",
       "      <td>42.044800</td>\n",
       "      <td>97.250000</td>\n",
       "      <td>34.000021</td>\n",
       "      <td>15.198937</td>\n",
       "      <td>8714.000000</td>\n",
       "    </tr>\n",
       "  </tbody>\n",
       "</table>\n",
       "</div>"
      ],
      "text/plain": [
       "           season          yr        mnth     holiday     weekday  workingday  \\\n",
       "count  731.000000  731.000000  731.000000  731.000000  731.000000  731.000000   \n",
       "mean     2.496580    0.500684    6.519836    0.028728    2.997264    0.683995   \n",
       "std      1.110807    0.500342    3.451913    0.167155    2.004787    0.465233   \n",
       "min      1.000000    0.000000    1.000000    0.000000    0.000000    0.000000   \n",
       "25%      2.000000    0.000000    4.000000    0.000000    1.000000    0.000000   \n",
       "50%      3.000000    1.000000    7.000000    0.000000    3.000000    1.000000   \n",
       "75%      3.000000    1.000000   10.000000    0.000000    5.000000    1.000000   \n",
       "max      4.000000    1.000000   12.000000    1.000000    6.000000    1.000000   \n",
       "\n",
       "       weathersit        temp       atemp         hum  windspeed(mph)  \\\n",
       "count  731.000000  731.000000  731.000000  731.000000      731.000000   \n",
       "mean     1.395349   20.310776   23.717699   62.789406       12.762576   \n",
       "std      0.544894    7.505091    8.148059   14.242910        5.192357   \n",
       "min      1.000000    2.424346    3.953480    0.000000        1.500244   \n",
       "25%      1.000000   13.820424   16.892125   52.000000        9.041650   \n",
       "50%      1.000000   20.431653   24.336650   62.666700       12.125325   \n",
       "75%      2.000000   26.872076   30.430100   73.020850       15.625371   \n",
       "max      3.000000   35.328347   42.044800   97.250000       34.000021   \n",
       "\n",
       "       windspeed(ms)          cnt  \n",
       "count     731.000000   731.000000  \n",
       "mean        5.705220  4504.348837  \n",
       "std         2.321125  1937.211452  \n",
       "min         0.670650    22.000000  \n",
       "25%         4.041864  3152.000000  \n",
       "50%         5.420351  4548.000000  \n",
       "75%         6.984967  5956.000000  \n",
       "max        15.198937  8714.000000  "
      ]
     },
     "execution_count": 173,
     "metadata": {},
     "output_type": "execute_result"
    }
   ],
   "source": [
    "data.describe()"
   ]
  },
  {
   "cell_type": "code",
   "execution_count": 174,
   "id": "06c66cb9",
   "metadata": {},
   "outputs": [
    {
     "name": "stdout",
     "output_type": "stream",
     "text": [
      "<class 'pandas.core.frame.DataFrame'>\n",
      "RangeIndex: 731 entries, 0 to 730\n",
      "Data columns (total 13 columns):\n",
      " #   Column          Non-Null Count  Dtype  \n",
      "---  ------          --------------  -----  \n",
      " 0   season          731 non-null    int64  \n",
      " 1   yr              731 non-null    int64  \n",
      " 2   mnth            731 non-null    int64  \n",
      " 3   holiday         731 non-null    int64  \n",
      " 4   weekday         731 non-null    int64  \n",
      " 5   workingday      731 non-null    int64  \n",
      " 6   weathersit      731 non-null    int64  \n",
      " 7   temp            731 non-null    float64\n",
      " 8   atemp           731 non-null    float64\n",
      " 9   hum             731 non-null    float64\n",
      " 10  windspeed(mph)  731 non-null    float64\n",
      " 11  windspeed(ms)   731 non-null    float64\n",
      " 12  cnt             731 non-null    int64  \n",
      "dtypes: float64(5), int64(8)\n",
      "memory usage: 74.4 KB\n"
     ]
    }
   ],
   "source": [
    "data.info()"
   ]
  },
  {
   "cell_type": "code",
   "execution_count": 175,
   "id": "707c7b21",
   "metadata": {},
   "outputs": [
    {
     "data": {
      "text/plain": [
       "season            0\n",
       "yr                0\n",
       "mnth              0\n",
       "holiday           0\n",
       "weekday           0\n",
       "workingday        0\n",
       "weathersit        0\n",
       "temp              0\n",
       "atemp             0\n",
       "hum               0\n",
       "windspeed(mph)    0\n",
       "windspeed(ms)     0\n",
       "cnt               0\n",
       "dtype: int64"
      ]
     },
     "execution_count": 175,
     "metadata": {},
     "output_type": "execute_result"
    }
   ],
   "source": [
    "data.isnull().sum()"
   ]
  },
  {
   "cell_type": "code",
   "execution_count": 176,
   "id": "09f9096a",
   "metadata": {},
   "outputs": [
    {
     "data": {
      "text/plain": [
       "<AxesSubplot:>"
      ]
     },
     "execution_count": 176,
     "metadata": {},
     "output_type": "execute_result"
    },
    {
     "data": {
      "image/png": "[encoded data removed]",
      "text/plain": [
       "<Figure size 432x288 with 2 Axes>"
      ]
     },
     "metadata": {
      "needs_background": "light"
     },
     "output_type": "display_data"
    }
   ],
   "source": [
    "sns.heatmap(data.corr())"
   ]
  },
  {
   "cell_type": "code",
   "execution_count": 177,
   "id": "4f4d843e",
   "metadata": {},
   "outputs": [
    {
     "data": {
      "text/plain": [
       "(731, 13)"
      ]
     },
     "execution_count": 177,
     "metadata": {},
     "output_type": "execute_result"
    }
   ],
   "source": [
    "data.shape"
   ]
  },
  {
   "cell_type": "code",
   "execution_count": 178,
   "id": "0776a4d8",
   "metadata": {},
   "outputs": [
    {
     "data": {
      "image/png": "[encoded data removed]",
      "text/plain": [
       "<Figure size 432x288 with 12 Axes>"
      ]
     },
     "metadata": {
      "needs_background": "light"
     },
     "output_type": "display_data"
    }
   ],
   "source": [
    "for i,col in enumerate(data.columns[:-1]) :\n",
    "    plt.subplot(4,3,i+1)\n",
    "    plt.scatter(data[col], data['cnt'])\n",
    "    plt.title(col)"
   ]
  },
  {
   "cell_type": "code",
   "execution_count": 179,
   "id": "8b793158",
   "metadata": {},
   "outputs": [
    {
     "data": {
      "image/png": "[encoded data removed]",
      "text/plain": [
       "<Figure size 432x288 with 1 Axes>"
      ]
     },
     "metadata": {
      "needs_background": "light"
     },
     "output_type": "display_data"
    }
   ],
   "source": [
    "plt.scatter(data.mnth, data.cnt);"
   ]
  },
  {
   "cell_type": "code",
   "execution_count": 180,
   "id": "c71486c8",
   "metadata": {
    "scrolled": true
   },
   "outputs": [
    {
     "data": {
      "image/png": "[encoded data removed]",
      "text/plain": [
       "<Figure size 432x288 with 1 Axes>"
      ]
     },
     "metadata": {
      "needs_background": "light"
     },
     "output_type": "display_data"
    }
   ],
   "source": [
    "plt.scatter(data.temp, data.cnt);"
   ]
  },
  {
   "cell_type": "code",
   "execution_count": 181,
   "id": "1adb9018",
   "metadata": {},
   "outputs": [],
   "source": [
    "linreg = LinearRegression()\n",
    "lasso = Lasso(random_state=17)\n",
    "ridge = Ridge(random_state=17)\n",
    "lasso_cv = LassoCV(random_state=17)\n",
    "ridge_cv = RidgeCV()\n",
    "forest = RandomForestRegressor(random_state=17,n_jobs=-1,n_estimators=500)"
   ]
  },
  {
   "cell_type": "code",
   "execution_count": 182,
   "id": "4d93a9ab",
   "metadata": {},
   "outputs": [],
   "source": [
    "X , y = data.drop('cnt',axis =1).values ,  data.cnt.values"
   ]
  },
  {
   "cell_type": "code",
   "execution_count": 183,
   "id": "8739c164",
   "metadata": {
    "scrolled": true
   },
   "outputs": [],
   "source": [
    "train_part_size = int(.7*X.shape[0])\n",
    "\n",
    "X_train , X_valid = X[:train_part_size, :] , X[train_part_size:, :]\n",
    "y_train , y_valid = y[:train_part_size] , y[train_part_size:]"
   ]
  },
  {
   "cell_type": "code",
   "execution_count": 184,
   "id": "78f69d39",
   "metadata": {},
   "outputs": [],
   "source": [
    "scaler = StandardScaler()\n",
    "X_train_scaler = scaler.fit_transform(X_train)\n",
    "X_valid_scaler = scaler.transform(X_valid)"
   ]
  },
  {
   "cell_type": "code",
   "execution_count": 185,
   "id": "70ff1e11",
   "metadata": {},
   "outputs": [
    {
     "data": {
      "text/html": [
       "<div>\n",
       "<style scoped>\n",
       "    .dataframe tbody tr th:only-of-type {\n",
       "        vertical-align: middle;\n",
       "    }\n",
       "\n",
       "    .dataframe tbody tr th {\n",
       "        vertical-align: top;\n",
       "    }\n",
       "\n",
       "    .dataframe thead th {\n",
       "        text-align: right;\n",
       "    }\n",
       "</style>\n",
       "<table border=\"1\" class=\"dataframe\">\n",
       "  <thead>\n",
       "    <tr style=\"text-align: right;\">\n",
       "      <th></th>\n",
       "      <th>0</th>\n",
       "      <th>1</th>\n",
       "      <th>2</th>\n",
       "      <th>3</th>\n",
       "      <th>4</th>\n",
       "      <th>5</th>\n",
       "      <th>6</th>\n",
       "      <th>7</th>\n",
       "      <th>8</th>\n",
       "      <th>9</th>\n",
       "      <th>10</th>\n",
       "      <th>11</th>\n",
       "    </tr>\n",
       "  </thead>\n",
       "  <tbody>\n",
       "    <tr>\n",
       "      <th>0</th>\n",
       "      <td>-1.107401</td>\n",
       "      <td>-0.632456</td>\n",
       "      <td>-1.315274</td>\n",
       "      <td>-0.167836</td>\n",
       "      <td>1.5</td>\n",
       "      <td>-1.481131</td>\n",
       "      <td>1.064463</td>\n",
       "      <td>-0.682435</td>\n",
       "      <td>-0.534007</td>\n",
       "      <td>1.172487</td>\n",
       "      <td>-0.457752</td>\n",
       "      <td>-0.457752</td>\n",
       "    </tr>\n",
       "    <tr>\n",
       "      <th>1</th>\n",
       "      <td>-1.107401</td>\n",
       "      <td>-0.632456</td>\n",
       "      <td>-1.315274</td>\n",
       "      <td>-0.167836</td>\n",
       "      <td>-1.5</td>\n",
       "      <td>-1.481131</td>\n",
       "      <td>1.064463</td>\n",
       "      <td>-0.574279</td>\n",
       "      <td>-0.595785</td>\n",
       "      <td>0.451962</td>\n",
       "      <td>0.666032</td>\n",
       "      <td>0.666032</td>\n",
       "    </tr>\n",
       "    <tr>\n",
       "      <th>2</th>\n",
       "      <td>-1.107401</td>\n",
       "      <td>-0.632456</td>\n",
       "      <td>-1.315274</td>\n",
       "      <td>-0.167836</td>\n",
       "      <td>-1.0</td>\n",
       "      <td>0.675160</td>\n",
       "      <td>-0.736665</td>\n",
       "      <td>-1.510240</td>\n",
       "      <td>-1.622711</td>\n",
       "      <td>-1.247254</td>\n",
       "      <td>0.663098</td>\n",
       "      <td>0.663098</td>\n",
       "    </tr>\n",
       "    <tr>\n",
       "      <th>3</th>\n",
       "      <td>-1.107401</td>\n",
       "      <td>-0.632456</td>\n",
       "      <td>-1.315274</td>\n",
       "      <td>-0.167836</td>\n",
       "      <td>-0.5</td>\n",
       "      <td>0.675160</td>\n",
       "      <td>-0.736665</td>\n",
       "      <td>-1.489876</td>\n",
       "      <td>-1.480752</td>\n",
       "      <td>-0.241685</td>\n",
       "      <td>-0.459665</td>\n",
       "      <td>-0.459665</td>\n",
       "    </tr>\n",
       "    <tr>\n",
       "      <th>4</th>\n",
       "      <td>-1.107401</td>\n",
       "      <td>-0.632456</td>\n",
       "      <td>-1.315274</td>\n",
       "      <td>-0.167836</td>\n",
       "      <td>0.0</td>\n",
       "      <td>0.675160</td>\n",
       "      <td>-0.736665</td>\n",
       "      <td>-1.338897</td>\n",
       "      <td>-1.373594</td>\n",
       "      <td>-1.249329</td>\n",
       "      <td>-0.120284</td>\n",
       "      <td>-0.120284</td>\n",
       "    </tr>\n",
       "    <tr>\n",
       "      <th>...</th>\n",
       "      <td>...</td>\n",
       "      <td>...</td>\n",
       "      <td>...</td>\n",
       "      <td>...</td>\n",
       "      <td>...</td>\n",
       "      <td>...</td>\n",
       "      <td>...</td>\n",
       "      <td>...</td>\n",
       "      <td>...</td>\n",
       "      <td>...</td>\n",
       "      <td>...</td>\n",
       "      <td>...</td>\n",
       "    </tr>\n",
       "    <tr>\n",
       "      <th>506</th>\n",
       "      <td>-0.184266</td>\n",
       "      <td>1.581139</td>\n",
       "      <td>-0.145378</td>\n",
       "      <td>-0.167836</td>\n",
       "      <td>-1.0</td>\n",
       "      <td>0.675160</td>\n",
       "      <td>1.064463</td>\n",
       "      <td>0.741082</td>\n",
       "      <td>0.728558</td>\n",
       "      <td>1.208052</td>\n",
       "      <td>0.470407</td>\n",
       "      <td>0.470407</td>\n",
       "    </tr>\n",
       "    <tr>\n",
       "      <th>507</th>\n",
       "      <td>-0.184266</td>\n",
       "      <td>1.581139</td>\n",
       "      <td>-0.145378</td>\n",
       "      <td>-0.167836</td>\n",
       "      <td>-0.5</td>\n",
       "      <td>0.675160</td>\n",
       "      <td>1.064463</td>\n",
       "      <td>0.834430</td>\n",
       "      <td>0.823281</td>\n",
       "      <td>0.909872</td>\n",
       "      <td>-0.997096</td>\n",
       "      <td>-0.997096</td>\n",
       "    </tr>\n",
       "    <tr>\n",
       "      <th>508</th>\n",
       "      <td>-0.184266</td>\n",
       "      <td>1.581139</td>\n",
       "      <td>-0.145378</td>\n",
       "      <td>-0.167836</td>\n",
       "      <td>0.0</td>\n",
       "      <td>0.675160</td>\n",
       "      <td>1.064463</td>\n",
       "      <td>0.871770</td>\n",
       "      <td>0.846946</td>\n",
       "      <td>0.967319</td>\n",
       "      <td>-1.203335</td>\n",
       "      <td>-1.203335</td>\n",
       "    </tr>\n",
       "    <tr>\n",
       "      <th>509</th>\n",
       "      <td>-0.184266</td>\n",
       "      <td>1.581139</td>\n",
       "      <td>-0.145378</td>\n",
       "      <td>-0.167836</td>\n",
       "      <td>0.5</td>\n",
       "      <td>0.675160</td>\n",
       "      <td>-0.736665</td>\n",
       "      <td>1.058459</td>\n",
       "      <td>0.984974</td>\n",
       "      <td>0.587077</td>\n",
       "      <td>-0.298930</td>\n",
       "      <td>-0.298930</td>\n",
       "    </tr>\n",
       "    <tr>\n",
       "      <th>510</th>\n",
       "      <td>-0.184266</td>\n",
       "      <td>1.581139</td>\n",
       "      <td>-0.145378</td>\n",
       "      <td>-0.167836</td>\n",
       "      <td>1.0</td>\n",
       "      <td>0.675160</td>\n",
       "      <td>-0.736665</td>\n",
       "      <td>1.198478</td>\n",
       "      <td>1.115135</td>\n",
       "      <td>0.786770</td>\n",
       "      <td>-0.711561</td>\n",
       "      <td>-0.711561</td>\n",
       "    </tr>\n",
       "  </tbody>\n",
       "</table>\n",
       "<p>511 rows × 12 columns</p>\n",
       "</div>"
      ],
      "text/plain": [
       "           0         1         2         3    4         5         6   \\\n",
       "0   -1.107401 -0.632456 -1.315274 -0.167836  1.5 -1.481131  1.064463   \n",
       "1   -1.107401 -0.632456 -1.315274 -0.167836 -1.5 -1.481131  1.064463   \n",
       "2   -1.107401 -0.632456 -1.315274 -0.167836 -1.0  0.675160 -0.736665   \n",
       "3   -1.107401 -0.632456 -1.315274 -0.167836 -0.5  0.675160 -0.736665   \n",
       "4   -1.107401 -0.632456 -1.315274 -0.167836  0.0  0.675160 -0.736665   \n",
       "..        ...       ...       ...       ...  ...       ...       ...   \n",
       "506 -0.184266  1.581139 -0.145378 -0.167836 -1.0  0.675160  1.064463   \n",
       "507 -0.184266  1.581139 -0.145378 -0.167836 -0.5  0.675160  1.064463   \n",
       "508 -0.184266  1.581139 -0.145378 -0.167836  0.0  0.675160  1.064463   \n",
       "509 -0.184266  1.581139 -0.145378 -0.167836  0.5  0.675160 -0.736665   \n",
       "510 -0.184266  1.581139 -0.145378 -0.167836  1.0  0.675160 -0.736665   \n",
       "\n",
       "           7         8         9         10        11  \n",
       "0   -0.682435 -0.534007  1.172487 -0.457752 -0.457752  \n",
       "1   -0.574279 -0.595785  0.451962  0.666032  0.666032  \n",
       "2   -1.510240 -1.622711 -1.247254  0.663098  0.663098  \n",
       "3   -1.489876 -1.480752 -0.241685 -0.459665 -0.459665  \n",
       "4   -1.338897 -1.373594 -1.249329 -0.120284 -0.120284  \n",
       "..        ...       ...       ...       ...       ...  \n",
       "506  0.741082  0.728558  1.208052  0.470407  0.470407  \n",
       "507  0.834430  0.823281  0.909872 -0.997096 -0.997096  \n",
       "508  0.871770  0.846946  0.967319 -1.203335 -1.203335  \n",
       "509  1.058459  0.984974  0.587077 -0.298930 -0.298930  \n",
       "510  1.198478  1.115135  0.786770 -0.711561 -0.711561  \n",
       "\n",
       "[511 rows x 12 columns]"
      ]
     },
     "execution_count": 185,
     "metadata": {},
     "output_type": "execute_result"
    }
   ],
   "source": [
    "pd.DataFrame(X_train_scaler)"
   ]
  },
  {
   "cell_type": "code",
   "execution_count": 186,
   "id": "16a392b9",
   "metadata": {
    "scrolled": true
   },
   "outputs": [
    {
     "data": {
      "text/html": [
       "<div>\n",
       "<style scoped>\n",
       "    .dataframe tbody tr th:only-of-type {\n",
       "        vertical-align: middle;\n",
       "    }\n",
       "\n",
       "    .dataframe tbody tr th {\n",
       "        vertical-align: top;\n",
       "    }\n",
       "\n",
       "    .dataframe thead th {\n",
       "        text-align: right;\n",
       "    }\n",
       "</style>\n",
       "<table border=\"1\" class=\"dataframe\">\n",
       "  <thead>\n",
       "    <tr style=\"text-align: right;\">\n",
       "      <th></th>\n",
       "      <th>0</th>\n",
       "      <th>1</th>\n",
       "      <th>2</th>\n",
       "      <th>3</th>\n",
       "      <th>4</th>\n",
       "      <th>5</th>\n",
       "      <th>6</th>\n",
       "      <th>7</th>\n",
       "      <th>8</th>\n",
       "      <th>9</th>\n",
       "      <th>10</th>\n",
       "      <th>11</th>\n",
       "    </tr>\n",
       "  </thead>\n",
       "  <tbody>\n",
       "    <tr>\n",
       "      <th>0</th>\n",
       "      <td>-0.184266</td>\n",
       "      <td>1.581139</td>\n",
       "      <td>-0.145378</td>\n",
       "      <td>-0.167836</td>\n",
       "      <td>1.5</td>\n",
       "      <td>-1.481131</td>\n",
       "      <td>-0.736665</td>\n",
       "      <td>1.268487</td>\n",
       "      <td>1.209914</td>\n",
       "      <td>0.691027</td>\n",
       "      <td>0.033971</td>\n",
       "      <td>0.033971</td>\n",
       "    </tr>\n",
       "    <tr>\n",
       "      <th>1</th>\n",
       "      <td>-0.184266</td>\n",
       "      <td>1.581139</td>\n",
       "      <td>-0.145378</td>\n",
       "      <td>-0.167836</td>\n",
       "      <td>-1.5</td>\n",
       "      <td>-1.481131</td>\n",
       "      <td>-0.736665</td>\n",
       "      <td>1.254485</td>\n",
       "      <td>1.201971</td>\n",
       "      <td>0.458501</td>\n",
       "      <td>0.240363</td>\n",
       "      <td>0.240363</td>\n",
       "    </tr>\n",
       "    <tr>\n",
       "      <th>2</th>\n",
       "      <td>-0.184266</td>\n",
       "      <td>1.581139</td>\n",
       "      <td>-0.145378</td>\n",
       "      <td>5.958188</td>\n",
       "      <td>-1.0</td>\n",
       "      <td>-1.481131</td>\n",
       "      <td>-0.736665</td>\n",
       "      <td>1.380502</td>\n",
       "      <td>1.438653</td>\n",
       "      <td>0.321724</td>\n",
       "      <td>0.002449</td>\n",
       "      <td>0.002449</td>\n",
       "    </tr>\n",
       "    <tr>\n",
       "      <th>3</th>\n",
       "      <td>-0.184266</td>\n",
       "      <td>1.581139</td>\n",
       "      <td>-0.145378</td>\n",
       "      <td>-0.167836</td>\n",
       "      <td>-0.5</td>\n",
       "      <td>0.675160</td>\n",
       "      <td>-0.736665</td>\n",
       "      <td>1.436509</td>\n",
       "      <td>1.399234</td>\n",
       "      <td>0.376433</td>\n",
       "      <td>1.263828</td>\n",
       "      <td>1.263828</td>\n",
       "    </tr>\n",
       "    <tr>\n",
       "      <th>4</th>\n",
       "      <td>-0.184266</td>\n",
       "      <td>1.581139</td>\n",
       "      <td>-0.145378</td>\n",
       "      <td>-0.167836</td>\n",
       "      <td>0.0</td>\n",
       "      <td>0.675160</td>\n",
       "      <td>1.064463</td>\n",
       "      <td>1.067796</td>\n",
       "      <td>1.012651</td>\n",
       "      <td>0.280690</td>\n",
       "      <td>-0.790921</td>\n",
       "      <td>-0.790921</td>\n",
       "    </tr>\n",
       "    <tr>\n",
       "      <th>...</th>\n",
       "      <td>...</td>\n",
       "      <td>...</td>\n",
       "      <td>...</td>\n",
       "      <td>...</td>\n",
       "      <td>...</td>\n",
       "      <td>...</td>\n",
       "      <td>...</td>\n",
       "      <td>...</td>\n",
       "      <td>...</td>\n",
       "      <td>...</td>\n",
       "      <td>...</td>\n",
       "      <td>...</td>\n",
       "    </tr>\n",
       "    <tr>\n",
       "      <th>215</th>\n",
       "      <td>-1.107401</td>\n",
       "      <td>1.581139</td>\n",
       "      <td>1.901939</td>\n",
       "      <td>-0.167836</td>\n",
       "      <td>0.5</td>\n",
       "      <td>0.675160</td>\n",
       "      <td>1.064463</td>\n",
       "      <td>-1.186501</td>\n",
       "      <td>-1.390017</td>\n",
       "      <td>0.168534</td>\n",
       "      <td>1.962045</td>\n",
       "      <td>1.962045</td>\n",
       "    </tr>\n",
       "    <tr>\n",
       "      <th>216</th>\n",
       "      <td>-1.107401</td>\n",
       "      <td>1.581139</td>\n",
       "      <td>1.901939</td>\n",
       "      <td>-0.167836</td>\n",
       "      <td>1.0</td>\n",
       "      <td>0.675160</td>\n",
       "      <td>1.064463</td>\n",
       "      <td>-1.191172</td>\n",
       "      <td>-1.212519</td>\n",
       "      <td>-0.244541</td>\n",
       "      <td>-0.521217</td>\n",
       "      <td>-0.521217</td>\n",
       "    </tr>\n",
       "    <tr>\n",
       "      <th>217</th>\n",
       "      <td>-1.107401</td>\n",
       "      <td>1.581139</td>\n",
       "      <td>1.901939</td>\n",
       "      <td>-0.167836</td>\n",
       "      <td>1.5</td>\n",
       "      <td>-1.481131</td>\n",
       "      <td>1.064463</td>\n",
       "      <td>-1.191172</td>\n",
       "      <td>-1.291544</td>\n",
       "      <td>0.825073</td>\n",
       "      <td>-0.917800</td>\n",
       "      <td>-0.917800</td>\n",
       "    </tr>\n",
       "    <tr>\n",
       "      <th>218</th>\n",
       "      <td>-1.107401</td>\n",
       "      <td>1.581139</td>\n",
       "      <td>1.901939</td>\n",
       "      <td>-0.167836</td>\n",
       "      <td>-1.5</td>\n",
       "      <td>-1.481131</td>\n",
       "      <td>-0.736665</td>\n",
       "      <td>-1.177170</td>\n",
       "      <td>-1.358409</td>\n",
       "      <td>-0.944852</td>\n",
       "      <td>1.969967</td>\n",
       "      <td>1.969967</td>\n",
       "    </tr>\n",
       "    <tr>\n",
       "      <th>219</th>\n",
       "      <td>-1.107401</td>\n",
       "      <td>1.581139</td>\n",
       "      <td>1.901939</td>\n",
       "      <td>-0.167836</td>\n",
       "      <td>-1.0</td>\n",
       "      <td>0.675160</td>\n",
       "      <td>1.064463</td>\n",
       "      <td>-1.401200</td>\n",
       "      <td>-1.409732</td>\n",
       "      <td>-0.326609</td>\n",
       "      <td>-0.529190</td>\n",
       "      <td>-0.529190</td>\n",
       "    </tr>\n",
       "  </tbody>\n",
       "</table>\n",
       "<p>220 rows × 12 columns</p>\n",
       "</div>"
      ],
      "text/plain": [
       "           0         1         2         3    4         5         6   \\\n",
       "0   -0.184266  1.581139 -0.145378 -0.167836  1.5 -1.481131 -0.736665   \n",
       "1   -0.184266  1.581139 -0.145378 -0.167836 -1.5 -1.481131 -0.736665   \n",
       "2   -0.184266  1.581139 -0.145378  5.958188 -1.0 -1.481131 -0.736665   \n",
       "3   -0.184266  1.581139 -0.145378 -0.167836 -0.5  0.675160 -0.736665   \n",
       "4   -0.184266  1.581139 -0.145378 -0.167836  0.0  0.675160  1.064463   \n",
       "..        ...       ...       ...       ...  ...       ...       ...   \n",
       "215 -1.107401  1.581139  1.901939 -0.167836  0.5  0.675160  1.064463   \n",
       "216 -1.107401  1.581139  1.901939 -0.167836  1.0  0.675160  1.064463   \n",
       "217 -1.107401  1.581139  1.901939 -0.167836  1.5 -1.481131  1.064463   \n",
       "218 -1.107401  1.581139  1.901939 -0.167836 -1.5 -1.481131 -0.736665   \n",
       "219 -1.107401  1.581139  1.901939 -0.167836 -1.0  0.675160  1.064463   \n",
       "\n",
       "           7         8         9         10        11  \n",
       "0    1.268487  1.209914  0.691027  0.033971  0.033971  \n",
       "1    1.254485  1.201971  0.458501  0.240363  0.240363  \n",
       "2    1.380502  1.438653  0.321724  0.002449  0.002449  \n",
       "3    1.436509  1.399234  0.376433  1.263828  1.263828  \n",
       "4    1.067796  1.012651  0.280690 -0.790921 -0.790921  \n",
       "..        ...       ...       ...       ...       ...  \n",
       "215 -1.186501 -1.390017  0.168534  1.962045  1.962045  \n",
       "216 -1.191172 -1.212519 -0.244541 -0.521217 -0.521217  \n",
       "217 -1.191172 -1.291544  0.825073 -0.917800 -0.917800  \n",
       "218 -1.177170 -1.358409 -0.944852  1.969967  1.969967  \n",
       "219 -1.401200 -1.409732 -0.326609 -0.529190 -0.529190  \n",
       "\n",
       "[220 rows x 12 columns]"
      ]
     },
     "execution_count": 186,
     "metadata": {},
     "output_type": "execute_result"
    }
   ],
   "source": [
    "pd.DataFrame(X_valid_scaler)"
   ]
  },
  {
   "cell_type": "markdown",
   "id": "84aaa0e6",
   "metadata": {},
   "source": [
    "# Линейная регрессия(LinearRegression)"
   ]
  },
  {
   "cell_type": "code",
   "execution_count": 187,
   "id": "0dab778d",
   "metadata": {},
   "outputs": [
    {
     "data": {
      "text/plain": [
       "LinearRegression()"
      ]
     },
     "execution_count": 187,
     "metadata": {},
     "output_type": "execute_result"
    }
   ],
   "source": [
    "linreg.fit(X_train_scaler,y_train)"
   ]
  },
  {
   "cell_type": "code",
   "execution_count": 188,
   "id": "1f33331b",
   "metadata": {},
   "outputs": [
    {
     "data": {
      "text/plain": [
       "1121.7952667976153"
      ]
     },
     "execution_count": 188,
     "metadata": {},
     "output_type": "execute_result"
    }
   ],
   "source": [
    "mean_squared_error_linreg = np.sqrt(mean_squared_error(y_valid, linreg.predict(X_valid_scaler)))\n",
    "mean_squared_error_linreg"
   ]
  },
  {
   "cell_type": "code",
   "execution_count": 189,
   "id": "8ef18a6c",
   "metadata": {},
   "outputs": [
    {
     "data": {
      "image/png": "[encoded data removed]",
      "text/plain": [
       "<Figure size 432x288 with 1 Axes>"
      ]
     },
     "metadata": {
      "needs_background": "light"
     },
     "output_type": "display_data"
    }
   ],
   "source": [
    "data['cnt'].hist();"
   ]
  },
  {
   "cell_type": "code",
   "execution_count": 190,
   "id": "6f72ddf7",
   "metadata": {},
   "outputs": [
    {
     "data": {
      "text/html": [
       "<div>\n",
       "<style scoped>\n",
       "    .dataframe tbody tr th:only-of-type {\n",
       "        vertical-align: middle;\n",
       "    }\n",
       "\n",
       "    .dataframe tbody tr th {\n",
       "        vertical-align: top;\n",
       "    }\n",
       "\n",
       "    .dataframe thead th {\n",
       "        text-align: right;\n",
       "    }\n",
       "</style>\n",
       "<table border=\"1\" class=\"dataframe\">\n",
       "  <thead>\n",
       "    <tr style=\"text-align: right;\">\n",
       "      <th></th>\n",
       "      <th>coef_regression</th>\n",
       "    </tr>\n",
       "  </thead>\n",
       "  <tbody>\n",
       "    <tr>\n",
       "      <th>windspeed(ms)</th>\n",
       "      <td>3.050517e+12</td>\n",
       "    </tr>\n",
       "    <tr>\n",
       "      <th>yr</th>\n",
       "      <td>9.540697e+02</td>\n",
       "    </tr>\n",
       "    <tr>\n",
       "      <th>atemp</th>\n",
       "      <td>8.911769e+02</td>\n",
       "    </tr>\n",
       "    <tr>\n",
       "      <th>season</th>\n",
       "      <td>4.048590e+02</td>\n",
       "    </tr>\n",
       "    <tr>\n",
       "      <th>weekday</th>\n",
       "      <td>1.037111e+02</td>\n",
       "    </tr>\n",
       "    <tr>\n",
       "      <th>temp</th>\n",
       "      <td>6.248087e+01</td>\n",
       "    </tr>\n",
       "    <tr>\n",
       "      <th>mnth</th>\n",
       "      <td>3.080806e+01</td>\n",
       "    </tr>\n",
       "    <tr>\n",
       "      <th>workingday</th>\n",
       "      <td>1.470160e+01</td>\n",
       "    </tr>\n",
       "    <tr>\n",
       "      <th>holiday</th>\n",
       "      <td>-6.757441e+01</td>\n",
       "    </tr>\n",
       "    <tr>\n",
       "      <th>hum</th>\n",
       "      <td>-1.589767e+02</td>\n",
       "    </tr>\n",
       "    <tr>\n",
       "      <th>weathersit</th>\n",
       "      <td>-2.938165e+02</td>\n",
       "    </tr>\n",
       "    <tr>\n",
       "      <th>windspeed(mph)</th>\n",
       "      <td>-3.050517e+12</td>\n",
       "    </tr>\n",
       "  </tbody>\n",
       "</table>\n",
       "</div>"
      ],
      "text/plain": [
       "                coef_regression\n",
       "windspeed(ms)      3.050517e+12\n",
       "yr                 9.540697e+02\n",
       "atemp              8.911769e+02\n",
       "season             4.048590e+02\n",
       "weekday            1.037111e+02\n",
       "temp               6.248087e+01\n",
       "mnth               3.080806e+01\n",
       "workingday         1.470160e+01\n",
       "holiday           -6.757441e+01\n",
       "hum               -1.589767e+02\n",
       "weathersit        -2.938165e+02\n",
       "windspeed(mph)    -3.050517e+12"
      ]
     },
     "execution_count": 190,
     "metadata": {},
     "output_type": "execute_result"
    }
   ],
   "source": [
    "pd.DataFrame(linreg.coef_ ,data.columns[:-1] , columns=['coef_regression']).sort_values(by='coef_regression',\n",
    "                                                                                       ascending=False)"
   ]
  },
  {
   "cell_type": "markdown",
   "id": "d412dd7c",
   "metadata": {},
   "source": [
    "# Lasso"
   ]
  },
  {
   "cell_type": "code",
   "execution_count": 191,
   "id": "27e1b909",
   "metadata": {},
   "outputs": [
    {
     "data": {
      "text/plain": [
       "Lasso(random_state=17)"
      ]
     },
     "execution_count": 191,
     "metadata": {},
     "output_type": "execute_result"
    }
   ],
   "source": [
    "lasso.fit(X_train_scaler,y_train)"
   ]
  },
  {
   "cell_type": "code",
   "execution_count": 192,
   "id": "73285d5c",
   "metadata": {},
   "outputs": [
    {
     "data": {
      "text/plain": [
       "1120.7214094932299"
      ]
     },
     "execution_count": 192,
     "metadata": {},
     "output_type": "execute_result"
    }
   ],
   "source": [
    "mean_squared_error_lasso = np.sqrt(mean_squared_error(y_valid,lasso.predict(X_valid_scaler)))\n",
    "mean_squared_error_lasso"
   ]
  },
  {
   "cell_type": "code",
   "execution_count": 193,
   "id": "84d51dc0",
   "metadata": {
    "scrolled": true
   },
   "outputs": [
    {
     "data": {
      "text/html": [
       "<div>\n",
       "<style scoped>\n",
       "    .dataframe tbody tr th:only-of-type {\n",
       "        vertical-align: middle;\n",
       "    }\n",
       "\n",
       "    .dataframe tbody tr th {\n",
       "        vertical-align: top;\n",
       "    }\n",
       "\n",
       "    .dataframe thead th {\n",
       "        text-align: right;\n",
       "    }\n",
       "</style>\n",
       "<table border=\"1\" class=\"dataframe\">\n",
       "  <thead>\n",
       "    <tr style=\"text-align: right;\">\n",
       "      <th></th>\n",
       "      <th>coef_regression_lasso</th>\n",
       "    </tr>\n",
       "  </thead>\n",
       "  <tbody>\n",
       "    <tr>\n",
       "      <th>yr</th>\n",
       "      <td>952.804560</td>\n",
       "    </tr>\n",
       "    <tr>\n",
       "      <th>atemp</th>\n",
       "      <td>877.159813</td>\n",
       "    </tr>\n",
       "    <tr>\n",
       "      <th>season</th>\n",
       "      <td>403.416439</td>\n",
       "    </tr>\n",
       "    <tr>\n",
       "      <th>weekday</th>\n",
       "      <td>102.643044</td>\n",
       "    </tr>\n",
       "    <tr>\n",
       "      <th>temp</th>\n",
       "      <td>75.953962</td>\n",
       "    </tr>\n",
       "    <tr>\n",
       "      <th>mnth</th>\n",
       "      <td>29.857599</td>\n",
       "    </tr>\n",
       "    <tr>\n",
       "      <th>workingday</th>\n",
       "      <td>14.173377</td>\n",
       "    </tr>\n",
       "    <tr>\n",
       "      <th>windspeed(ms)</th>\n",
       "      <td>-0.000000</td>\n",
       "    </tr>\n",
       "    <tr>\n",
       "      <th>holiday</th>\n",
       "      <td>-67.073435</td>\n",
       "    </tr>\n",
       "    <tr>\n",
       "      <th>hum</th>\n",
       "      <td>-157.547615</td>\n",
       "    </tr>\n",
       "    <tr>\n",
       "      <th>windspeed(mph)</th>\n",
       "      <td>-187.341353</td>\n",
       "    </tr>\n",
       "    <tr>\n",
       "      <th>weathersit</th>\n",
       "      <td>-293.177257</td>\n",
       "    </tr>\n",
       "  </tbody>\n",
       "</table>\n",
       "</div>"
      ],
      "text/plain": [
       "                coef_regression_lasso\n",
       "yr                         952.804560\n",
       "atemp                      877.159813\n",
       "season                     403.416439\n",
       "weekday                    102.643044\n",
       "temp                        75.953962\n",
       "mnth                        29.857599\n",
       "workingday                  14.173377\n",
       "windspeed(ms)               -0.000000\n",
       "holiday                    -67.073435\n",
       "hum                       -157.547615\n",
       "windspeed(mph)            -187.341353\n",
       "weathersit                -293.177257"
      ]
     },
     "execution_count": 193,
     "metadata": {},
     "output_type": "execute_result"
    }
   ],
   "source": [
    "pd.DataFrame(lasso.coef_, data.columns[:-1], columns=['coef_regression_lasso']).sort_values(by='coef_regression_lasso',\n",
    "                                                                                       ascending=False)"
   ]
  },
  {
   "cell_type": "markdown",
   "id": "bdbda7f0",
   "metadata": {},
   "source": [
    "# Lasso_cv"
   ]
  },
  {
   "cell_type": "code",
   "execution_count": 194,
   "id": "5aedcc91",
   "metadata": {
    "scrolled": true
   },
   "outputs": [
    {
     "data": {
      "text/plain": [
       "LassoCV(random_state=17)"
      ]
     },
     "execution_count": 194,
     "metadata": {},
     "output_type": "execute_result"
    }
   ],
   "source": [
    "lasso_cv.fit(X_train_scaler,y_train)"
   ]
  },
  {
   "cell_type": "code",
   "execution_count": 195,
   "id": "0a0e838c",
   "metadata": {},
   "outputs": [
    {
     "data": {
      "text/plain": [
       "1120.7436606195304"
      ]
     },
     "execution_count": 195,
     "metadata": {},
     "output_type": "execute_result"
    }
   ],
   "source": [
    "mean_squared_error_lasso_cv = np.sqrt(mean_squared_error(y_valid,lasso_cv.predict(X_valid_scaler)))\n",
    "mean_squared_error_lasso_cv"
   ]
  },
  {
   "cell_type": "code",
   "execution_count": 196,
   "id": "5fdab27c",
   "metadata": {
    "scrolled": true
   },
   "outputs": [
    {
     "data": {
      "text/html": [
       "<div>\n",
       "<style scoped>\n",
       "    .dataframe tbody tr th:only-of-type {\n",
       "        vertical-align: middle;\n",
       "    }\n",
       "\n",
       "    .dataframe tbody tr th {\n",
       "        vertical-align: top;\n",
       "    }\n",
       "\n",
       "    .dataframe thead th {\n",
       "        text-align: right;\n",
       "    }\n",
       "</style>\n",
       "<table border=\"1\" class=\"dataframe\">\n",
       "  <thead>\n",
       "    <tr style=\"text-align: right;\">\n",
       "      <th></th>\n",
       "      <th>coef_regression_lasso_cv</th>\n",
       "    </tr>\n",
       "  </thead>\n",
       "  <tbody>\n",
       "    <tr>\n",
       "      <th>yr</th>\n",
       "      <td>951.135002</td>\n",
       "    </tr>\n",
       "    <tr>\n",
       "      <th>atemp</th>\n",
       "      <td>883.344030</td>\n",
       "    </tr>\n",
       "    <tr>\n",
       "      <th>season</th>\n",
       "      <td>403.009581</td>\n",
       "    </tr>\n",
       "    <tr>\n",
       "      <th>weekday</th>\n",
       "      <td>101.892690</td>\n",
       "    </tr>\n",
       "    <tr>\n",
       "      <th>temp</th>\n",
       "      <td>69.238981</td>\n",
       "    </tr>\n",
       "    <tr>\n",
       "      <th>mnth</th>\n",
       "      <td>28.608639</td>\n",
       "    </tr>\n",
       "    <tr>\n",
       "      <th>workingday</th>\n",
       "      <td>13.478682</td>\n",
       "    </tr>\n",
       "    <tr>\n",
       "      <th>windspeed(ms)</th>\n",
       "      <td>-0.000000</td>\n",
       "    </tr>\n",
       "    <tr>\n",
       "      <th>holiday</th>\n",
       "      <td>-66.360460</td>\n",
       "    </tr>\n",
       "    <tr>\n",
       "      <th>hum</th>\n",
       "      <td>-156.248289</td>\n",
       "    </tr>\n",
       "    <tr>\n",
       "      <th>windspeed(mph)</th>\n",
       "      <td>-186.267734</td>\n",
       "    </tr>\n",
       "    <tr>\n",
       "      <th>weathersit</th>\n",
       "      <td>-293.016582</td>\n",
       "    </tr>\n",
       "  </tbody>\n",
       "</table>\n",
       "</div>"
      ],
      "text/plain": [
       "                coef_regression_lasso_cv\n",
       "yr                            951.135002\n",
       "atemp                         883.344030\n",
       "season                        403.009581\n",
       "weekday                       101.892690\n",
       "temp                           69.238981\n",
       "mnth                           28.608639\n",
       "workingday                     13.478682\n",
       "windspeed(ms)                  -0.000000\n",
       "holiday                       -66.360460\n",
       "hum                          -156.248289\n",
       "windspeed(mph)               -186.267734\n",
       "weathersit                   -293.016582"
      ]
     },
     "execution_count": 196,
     "metadata": {},
     "output_type": "execute_result"
    }
   ],
   "source": [
    "pd.DataFrame(lasso_cv.coef_, data.columns[:-1], columns=['coef_regression_lasso_cv']).sort_values(by='coef_regression_lasso_cv',\n",
    "                                                                                                 ascending=False)"
   ]
  },
  {
   "cell_type": "markdown",
   "id": "126d8643",
   "metadata": {},
   "source": [
    "# Ridge"
   ]
  },
  {
   "cell_type": "code",
   "execution_count": 197,
   "id": "0b92a8c6",
   "metadata": {
    "scrolled": true
   },
   "outputs": [
    {
     "data": {
      "text/plain": [
       "Ridge(random_state=17)"
      ]
     },
     "execution_count": 197,
     "metadata": {},
     "output_type": "execute_result"
    }
   ],
   "source": [
    "ridge.fit(X_train_scaler,y_train)"
   ]
  },
  {
   "cell_type": "code",
   "execution_count": 198,
   "id": "eab2ca69",
   "metadata": {},
   "outputs": [
    {
     "data": {
      "text/plain": [
       "1119.5605202108366"
      ]
     },
     "execution_count": 198,
     "metadata": {},
     "output_type": "execute_result"
    }
   ],
   "source": [
    "mean_squared_error_ridge = np.sqrt(mean_squared_error(y_valid,ridge.predict(X_valid_scaler)))\n",
    "mean_squared_error_ridge"
   ]
  },
  {
   "cell_type": "code",
   "execution_count": 199,
   "id": "678bcfea",
   "metadata": {
    "scrolled": true
   },
   "outputs": [
    {
     "data": {
      "text/html": [
       "<div>\n",
       "<style scoped>\n",
       "    .dataframe tbody tr th:only-of-type {\n",
       "        vertical-align: middle;\n",
       "    }\n",
       "\n",
       "    .dataframe tbody tr th {\n",
       "        vertical-align: top;\n",
       "    }\n",
       "\n",
       "    .dataframe thead th {\n",
       "        text-align: right;\n",
       "    }\n",
       "</style>\n",
       "<table border=\"1\" class=\"dataframe\">\n",
       "  <thead>\n",
       "    <tr style=\"text-align: right;\">\n",
       "      <th></th>\n",
       "      <th>coef_regression_ridge</th>\n",
       "    </tr>\n",
       "  </thead>\n",
       "  <tbody>\n",
       "    <tr>\n",
       "      <th>yr</th>\n",
       "      <td>954.075878</td>\n",
       "    </tr>\n",
       "    <tr>\n",
       "      <th>atemp</th>\n",
       "      <td>730.747340</td>\n",
       "    </tr>\n",
       "    <tr>\n",
       "      <th>season</th>\n",
       "      <td>400.114172</td>\n",
       "    </tr>\n",
       "    <tr>\n",
       "      <th>temp</th>\n",
       "      <td>221.406072</td>\n",
       "    </tr>\n",
       "    <tr>\n",
       "      <th>weekday</th>\n",
       "      <td>103.198680</td>\n",
       "    </tr>\n",
       "    <tr>\n",
       "      <th>mnth</th>\n",
       "      <td>34.687740</td>\n",
       "    </tr>\n",
       "    <tr>\n",
       "      <th>workingday</th>\n",
       "      <td>15.334339</td>\n",
       "    </tr>\n",
       "    <tr>\n",
       "      <th>holiday</th>\n",
       "      <td>-69.046689</td>\n",
       "    </tr>\n",
       "    <tr>\n",
       "      <th>windspeed(ms)</th>\n",
       "      <td>-95.819798</td>\n",
       "    </tr>\n",
       "    <tr>\n",
       "      <th>windspeed(mph)</th>\n",
       "      <td>-95.819798</td>\n",
       "    </tr>\n",
       "    <tr>\n",
       "      <th>hum</th>\n",
       "      <td>-157.702520</td>\n",
       "    </tr>\n",
       "    <tr>\n",
       "      <th>weathersit</th>\n",
       "      <td>-293.899386</td>\n",
       "    </tr>\n",
       "  </tbody>\n",
       "</table>\n",
       "</div>"
      ],
      "text/plain": [
       "                coef_regression_ridge\n",
       "yr                         954.075878\n",
       "atemp                      730.747340\n",
       "season                     400.114172\n",
       "temp                       221.406072\n",
       "weekday                    103.198680\n",
       "mnth                        34.687740\n",
       "workingday                  15.334339\n",
       "holiday                    -69.046689\n",
       "windspeed(ms)              -95.819798\n",
       "windspeed(mph)             -95.819798\n",
       "hum                       -157.702520\n",
       "weathersit                -293.899386"
      ]
     },
     "execution_count": 199,
     "metadata": {},
     "output_type": "execute_result"
    }
   ],
   "source": [
    "pd.DataFrame(ridge.coef_,data.columns[:-1],columns=['coef_regression_ridge']).sort_values(by='coef_regression_ridge',\n",
    "                                                                                         ascending=False)"
   ]
  },
  {
   "cell_type": "markdown",
   "id": "ec264182",
   "metadata": {},
   "source": [
    "# Ridge_cv"
   ]
  },
  {
   "cell_type": "code",
   "execution_count": 200,
   "id": "80d88875",
   "metadata": {},
   "outputs": [
    {
     "data": {
      "text/plain": [
       "RidgeCV(alphas=array([ 0.1,  1. , 10. ]))"
      ]
     },
     "execution_count": 200,
     "metadata": {},
     "output_type": "execute_result"
    }
   ],
   "source": [
    "ridge_cv.fit(X_train_scaler,y_train)"
   ]
  },
  {
   "cell_type": "code",
   "execution_count": 201,
   "id": "0d803ca2",
   "metadata": {},
   "outputs": [
    {
     "data": {
      "text/plain": [
       "1118.903543322007"
      ]
     },
     "execution_count": 201,
     "metadata": {},
     "output_type": "execute_result"
    }
   ],
   "source": [
    "mean_squared_error_ridge_cv = np.sqrt(mean_squared_error(y_valid,ridge_cv.predict(X_valid_scaler)))\n",
    "mean_squared_error_ridge_cv"
   ]
  },
  {
   "cell_type": "code",
   "execution_count": 202,
   "id": "2027d58a",
   "metadata": {
    "scrolled": true
   },
   "outputs": [
    {
     "data": {
      "text/html": [
       "<div>\n",
       "<style scoped>\n",
       "    .dataframe tbody tr th:only-of-type {\n",
       "        vertical-align: middle;\n",
       "    }\n",
       "\n",
       "    .dataframe tbody tr th {\n",
       "        vertical-align: top;\n",
       "    }\n",
       "\n",
       "    .dataframe thead th {\n",
       "        text-align: right;\n",
       "    }\n",
       "</style>\n",
       "<table border=\"1\" class=\"dataframe\">\n",
       "  <thead>\n",
       "    <tr style=\"text-align: right;\">\n",
       "      <th></th>\n",
       "      <th>coef_regression_ridge_cv</th>\n",
       "    </tr>\n",
       "  </thead>\n",
       "  <tbody>\n",
       "    <tr>\n",
       "      <th>yr</th>\n",
       "      <td>934.401985</td>\n",
       "    </tr>\n",
       "    <tr>\n",
       "      <th>atemp</th>\n",
       "      <td>534.482125</td>\n",
       "    </tr>\n",
       "    <tr>\n",
       "      <th>temp</th>\n",
       "      <td>410.485392</td>\n",
       "    </tr>\n",
       "    <tr>\n",
       "      <th>season</th>\n",
       "      <td>375.585733</td>\n",
       "    </tr>\n",
       "    <tr>\n",
       "      <th>weekday</th>\n",
       "      <td>100.838401</td>\n",
       "    </tr>\n",
       "    <tr>\n",
       "      <th>mnth</th>\n",
       "      <td>48.142392</td>\n",
       "    </tr>\n",
       "    <tr>\n",
       "      <th>workingday</th>\n",
       "      <td>16.165284</td>\n",
       "    </tr>\n",
       "    <tr>\n",
       "      <th>holiday</th>\n",
       "      <td>-70.019251</td>\n",
       "    </tr>\n",
       "    <tr>\n",
       "      <th>windspeed(ms)</th>\n",
       "      <td>-97.770430</td>\n",
       "    </tr>\n",
       "    <tr>\n",
       "      <th>windspeed(mph)</th>\n",
       "      <td>-97.770430</td>\n",
       "    </tr>\n",
       "    <tr>\n",
       "      <th>hum</th>\n",
       "      <td>-155.174377</td>\n",
       "    </tr>\n",
       "    <tr>\n",
       "      <th>weathersit</th>\n",
       "      <td>-291.035853</td>\n",
       "    </tr>\n",
       "  </tbody>\n",
       "</table>\n",
       "</div>"
      ],
      "text/plain": [
       "                coef_regression_ridge_cv\n",
       "yr                            934.401985\n",
       "atemp                         534.482125\n",
       "temp                          410.485392\n",
       "season                        375.585733\n",
       "weekday                       100.838401\n",
       "mnth                           48.142392\n",
       "workingday                     16.165284\n",
       "holiday                       -70.019251\n",
       "windspeed(ms)                 -97.770430\n",
       "windspeed(mph)                -97.770430\n",
       "hum                          -155.174377\n",
       "weathersit                   -291.035853"
      ]
     },
     "execution_count": 202,
     "metadata": {},
     "output_type": "execute_result"
    }
   ],
   "source": [
    "pd.DataFrame(ridge_cv.coef_,data.columns[:-1],columns=['coef_regression_ridge_cv']).sort_values(by='coef_regression_ridge_cv',\n",
    "                                                                                               ascending=False)"
   ]
  },
  {
   "cell_type": "markdown",
   "id": "c064b8e4",
   "metadata": {},
   "source": [
    "# RandomForestRegressor(n_estimators=500)"
   ]
  },
  {
   "cell_type": "code",
   "execution_count": 203,
   "id": "3983c5cd",
   "metadata": {},
   "outputs": [
    {
     "data": {
      "text/plain": [
       "RandomForestRegressor(n_estimators=500, n_jobs=-1, random_state=17)"
      ]
     },
     "execution_count": 203,
     "metadata": {},
     "output_type": "execute_result"
    }
   ],
   "source": [
    "forest.fit(X_train,y_train)"
   ]
  },
  {
   "cell_type": "code",
   "execution_count": 204,
   "id": "c699d341",
   "metadata": {},
   "outputs": [
    {
     "data": {
      "text/plain": [
       "1046.9607717751937"
      ]
     },
     "execution_count": 204,
     "metadata": {},
     "output_type": "execute_result"
    }
   ],
   "source": [
    "mean_squared_error_forest = np.sqrt(mean_squared_error(y_valid,forest.predict(X_valid)))\n",
    "mean_squared_error_forest"
   ]
  },
  {
   "cell_type": "code",
   "execution_count": 205,
   "id": "2f1f2f61",
   "metadata": {
    "scrolled": true
   },
   "outputs": [
    {
     "data": {
      "text/html": [
       "<div>\n",
       "<style scoped>\n",
       "    .dataframe tbody tr th:only-of-type {\n",
       "        vertical-align: middle;\n",
       "    }\n",
       "\n",
       "    .dataframe tbody tr th {\n",
       "        vertical-align: top;\n",
       "    }\n",
       "\n",
       "    .dataframe thead th {\n",
       "        text-align: right;\n",
       "    }\n",
       "</style>\n",
       "<table border=\"1\" class=\"dataframe\">\n",
       "  <thead>\n",
       "    <tr style=\"text-align: right;\">\n",
       "      <th></th>\n",
       "      <th>importance_feature</th>\n",
       "    </tr>\n",
       "  </thead>\n",
       "  <tbody>\n",
       "    <tr>\n",
       "      <th>temp</th>\n",
       "      <td>0.298609</td>\n",
       "    </tr>\n",
       "    <tr>\n",
       "      <th>atemp</th>\n",
       "      <td>0.243309</td>\n",
       "    </tr>\n",
       "    <tr>\n",
       "      <th>yr</th>\n",
       "      <td>0.199314</td>\n",
       "    </tr>\n",
       "    <tr>\n",
       "      <th>hum</th>\n",
       "      <td>0.070565</td>\n",
       "    </tr>\n",
       "    <tr>\n",
       "      <th>season</th>\n",
       "      <td>0.062295</td>\n",
       "    </tr>\n",
       "    <tr>\n",
       "      <th>weathersit</th>\n",
       "      <td>0.030535</td>\n",
       "    </tr>\n",
       "    <tr>\n",
       "      <th>mnth</th>\n",
       "      <td>0.027786</td>\n",
       "    </tr>\n",
       "    <tr>\n",
       "      <th>windspeed(mph)</th>\n",
       "      <td>0.020349</td>\n",
       "    </tr>\n",
       "    <tr>\n",
       "      <th>weekday</th>\n",
       "      <td>0.019819</td>\n",
       "    </tr>\n",
       "    <tr>\n",
       "      <th>windspeed(ms)</th>\n",
       "      <td>0.019613</td>\n",
       "    </tr>\n",
       "    <tr>\n",
       "      <th>workingday</th>\n",
       "      <td>0.005191</td>\n",
       "    </tr>\n",
       "    <tr>\n",
       "      <th>holiday</th>\n",
       "      <td>0.002615</td>\n",
       "    </tr>\n",
       "  </tbody>\n",
       "</table>\n",
       "</div>"
      ],
      "text/plain": [
       "                importance_feature\n",
       "temp                      0.298609\n",
       "atemp                     0.243309\n",
       "yr                        0.199314\n",
       "hum                       0.070565\n",
       "season                    0.062295\n",
       "weathersit                0.030535\n",
       "mnth                      0.027786\n",
       "windspeed(mph)            0.020349\n",
       "weekday                   0.019819\n",
       "windspeed(ms)             0.019613\n",
       "workingday                0.005191\n",
       "holiday                   0.002615"
      ]
     },
     "execution_count": 205,
     "metadata": {},
     "output_type": "execute_result"
    }
   ],
   "source": [
    "pd.DataFrame(forest.feature_importances_, data.columns[:-1], columns=['importance_feature']).sort_values(by='importance_feature',\n",
    "                                                                                                        ascending=False)"
   ]
  },
  {
   "cell_type": "markdown",
   "id": "c3697515",
   "metadata": {},
   "source": [
    "# Сравнение моделей регресии"
   ]
  },
  {
   "cell_type": "code",
   "execution_count": 206,
   "id": "cdd129d5",
   "metadata": {},
   "outputs": [
    {
     "data": {
      "text/plain": [
       "array([1121.7952668 , 1120.72140949, 1120.74366062, 1119.56052021,\n",
       "       1118.90354332, 1046.96077178])"
      ]
     },
     "execution_count": 206,
     "metadata": {},
     "output_type": "execute_result"
    }
   ],
   "source": [
    "arr_mean_squared_error = np.array([mean_squared_error_linreg,mean_squared_error_lasso,\n",
    "                                   mean_squared_error_lasso_cv,mean_squared_error_ridge,\n",
    "        mean_squared_error_ridge_cv,mean_squared_error_forest])\n",
    "arr_mean_squared_error"
   ]
  },
  {
   "cell_type": "code",
   "execution_count": 207,
   "id": "362e1f92",
   "metadata": {},
   "outputs": [],
   "source": [
    "index = ['linreg','lasso','lasso_cv','ridge','ridge_cv','forest']"
   ]
  },
  {
   "cell_type": "code",
   "execution_count": 208,
   "id": "ad456476",
   "metadata": {},
   "outputs": [
    {
     "data": {
      "text/html": [
       "<div>\n",
       "<style scoped>\n",
       "    .dataframe tbody tr th:only-of-type {\n",
       "        vertical-align: middle;\n",
       "    }\n",
       "\n",
       "    .dataframe tbody tr th {\n",
       "        vertical-align: top;\n",
       "    }\n",
       "\n",
       "    .dataframe thead th {\n",
       "        text-align: right;\n",
       "    }\n",
       "</style>\n",
       "<table border=\"1\" class=\"dataframe\">\n",
       "  <thead>\n",
       "    <tr style=\"text-align: right;\">\n",
       "      <th></th>\n",
       "      <th>MSE</th>\n",
       "    </tr>\n",
       "  </thead>\n",
       "  <tbody>\n",
       "    <tr>\n",
       "      <th>forest</th>\n",
       "      <td>1046.960772</td>\n",
       "    </tr>\n",
       "    <tr>\n",
       "      <th>ridge_cv</th>\n",
       "      <td>1118.903543</td>\n",
       "    </tr>\n",
       "    <tr>\n",
       "      <th>ridge</th>\n",
       "      <td>1119.560520</td>\n",
       "    </tr>\n",
       "    <tr>\n",
       "      <th>lasso</th>\n",
       "      <td>1120.721409</td>\n",
       "    </tr>\n",
       "    <tr>\n",
       "      <th>lasso_cv</th>\n",
       "      <td>1120.743661</td>\n",
       "    </tr>\n",
       "    <tr>\n",
       "      <th>linreg</th>\n",
       "      <td>1121.795267</td>\n",
       "    </tr>\n",
       "  </tbody>\n",
       "</table>\n",
       "</div>"
      ],
      "text/plain": [
       "                  MSE\n",
       "forest    1046.960772\n",
       "ridge_cv  1118.903543\n",
       "ridge     1119.560520\n",
       "lasso     1120.721409\n",
       "lasso_cv  1120.743661\n",
       "linreg    1121.795267"
      ]
     },
     "execution_count": 208,
     "metadata": {},
     "output_type": "execute_result"
    }
   ],
   "source": [
    "data_MSE = pd.DataFrame(arr_mean_squared_error,index = index, columns=['MSE']).sort_values(by='MSE',ascending=True)\n",
    "data_MSE"
   ]
  },
  {
   "cell_type": "code",
   "execution_count": 209,
   "id": "15a590e7",
   "metadata": {},
   "outputs": [
    {
     "data": {
      "text/plain": [
       "<AxesSubplot:>"
      ]
     },
     "execution_count": 209,
     "metadata": {},
     "output_type": "execute_result"
    },
    {
     "data": {
      "image/png": "[encoded data removed]",
      "text/plain": [
       "<Figure size 432x288 with 1 Axes>"
      ]
     },
     "metadata": {
      "needs_background": "light"
     },
     "output_type": "display_data"
    }
   ],
   "source": [
    "data_MSE.plot(color='yellow')"
   ]
  },
  {
   "cell_type": "code",
   "execution_count": null,
   "id": "d75fecaa",
   "metadata": {},
   "outputs": [],
   "source": []
  },
  {
   "cell_type": "code",
   "execution_count": null,
   "id": "dd51f808",
   "metadata": {},
   "outputs": [],
   "source": []
  },
  {
   "cell_type": "code",
   "execution_count": null,
   "id": "5d0bf56c",
   "metadata": {},
   "outputs": [],
   "source": []
  },
  {
   "cell_type": "code",
   "execution_count": null,
   "id": "b8847826",
   "metadata": {},
   "outputs": [],
   "source": []
  },
  {
   "cell_type": "code",
   "execution_count": null,
   "id": "e60d93f3",
   "metadata": {},
   "outputs": [],
   "source": []
  }
 ],
 "metadata": {
  "kernelspec": {
   "display_name": "Python 3",
   "language": "python",
   "name": "python3"
  },
  "language_info": {
   "codemirror_mode": {
    "name": "ipython",
    "version": 3
   },
   "file_extension": ".py",
   "mimetype": "text/x-python",
   "name": "python",
   "nbconvert_exporter": "python",
   "pygments_lexer": "ipython3",
   "version": "3.8.8"
  }
 },
 "nbformat": 4,
 "nbformat_minor": 5
}
