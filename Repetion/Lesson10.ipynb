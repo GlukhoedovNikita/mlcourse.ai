{
 "cells": [
  {
   "cell_type": "code",
   "execution_count": 1,
   "id": "d8a7ecb3",
   "metadata": {},
   "outputs": [],
   "source": [
    "import pandas as pd\n",
    "import numpy as np\n",
    "import matplotlib.pyplot as plt\n",
    "%matplotlib inline\n",
    "from sklearn.feature_extraction.text import CountVectorizer\n",
    "from scipy.sparse import csr_matrix,hstack\n",
    "from sklearn.model_selection import train_test_split\n",
    "from sklearn.linear_model import LogisticRegression\n",
    "from sklearn.metrics import accuracy_score,roc_auc_score\n",
    "from sklearn.preprocessing import StandardScaler\n",
    "from sklearn.ensemble import RandomForestClassifier,BaggingClassifier\n",
    "import xgboost\n",
    "import warnings\n",
    "warnings.filterwarnings('ignore')"
   ]
  },
  {
   "cell_type": "code",
   "execution_count": 2,
   "id": "e41f5086",
   "metadata": {},
   "outputs": [],
   "source": [
    "data_train = pd.read_csv('https://raw.githubusercontent.com/Yorko/mlcourse.ai/master/data/flight_delays_train.csv')\n",
    "data_test = pd.read_csv('https://raw.githubusercontent.com/Yorko/mlcourse.ai/master/data/flight_delays_test.csv')"
   ]
  },
  {
   "cell_type": "code",
   "execution_count": 3,
   "id": "fee9b6c3",
   "metadata": {},
   "outputs": [
    {
     "data": {
      "text/html": [
       "<div>\n",
       "<style scoped>\n",
       "    .dataframe tbody tr th:only-of-type {\n",
       "        vertical-align: middle;\n",
       "    }\n",
       "\n",
       "    .dataframe tbody tr th {\n",
       "        vertical-align: top;\n",
       "    }\n",
       "\n",
       "    .dataframe thead th {\n",
       "        text-align: right;\n",
       "    }\n",
       "</style>\n",
       "<table border=\"1\" class=\"dataframe\">\n",
       "  <thead>\n",
       "    <tr style=\"text-align: right;\">\n",
       "      <th></th>\n",
       "      <th>Month</th>\n",
       "      <th>DayofMonth</th>\n",
       "      <th>DayOfWeek</th>\n",
       "      <th>DepTime</th>\n",
       "      <th>UniqueCarrier</th>\n",
       "      <th>Origin</th>\n",
       "      <th>Dest</th>\n",
       "      <th>Distance</th>\n",
       "      <th>dep_delayed_15min</th>\n",
       "    </tr>\n",
       "  </thead>\n",
       "  <tbody>\n",
       "    <tr>\n",
       "      <th>0</th>\n",
       "      <td>c-8</td>\n",
       "      <td>c-21</td>\n",
       "      <td>c-7</td>\n",
       "      <td>1934</td>\n",
       "      <td>AA</td>\n",
       "      <td>ATL</td>\n",
       "      <td>DFW</td>\n",
       "      <td>732</td>\n",
       "      <td>N</td>\n",
       "    </tr>\n",
       "    <tr>\n",
       "      <th>1</th>\n",
       "      <td>c-4</td>\n",
       "      <td>c-20</td>\n",
       "      <td>c-3</td>\n",
       "      <td>1548</td>\n",
       "      <td>US</td>\n",
       "      <td>PIT</td>\n",
       "      <td>MCO</td>\n",
       "      <td>834</td>\n",
       "      <td>N</td>\n",
       "    </tr>\n",
       "    <tr>\n",
       "      <th>2</th>\n",
       "      <td>c-9</td>\n",
       "      <td>c-2</td>\n",
       "      <td>c-5</td>\n",
       "      <td>1422</td>\n",
       "      <td>XE</td>\n",
       "      <td>RDU</td>\n",
       "      <td>CLE</td>\n",
       "      <td>416</td>\n",
       "      <td>N</td>\n",
       "    </tr>\n",
       "    <tr>\n",
       "      <th>3</th>\n",
       "      <td>c-11</td>\n",
       "      <td>c-25</td>\n",
       "      <td>c-6</td>\n",
       "      <td>1015</td>\n",
       "      <td>OO</td>\n",
       "      <td>DEN</td>\n",
       "      <td>MEM</td>\n",
       "      <td>872</td>\n",
       "      <td>N</td>\n",
       "    </tr>\n",
       "    <tr>\n",
       "      <th>4</th>\n",
       "      <td>c-10</td>\n",
       "      <td>c-7</td>\n",
       "      <td>c-6</td>\n",
       "      <td>1828</td>\n",
       "      <td>WN</td>\n",
       "      <td>MDW</td>\n",
       "      <td>OMA</td>\n",
       "      <td>423</td>\n",
       "      <td>Y</td>\n",
       "    </tr>\n",
       "    <tr>\n",
       "      <th>...</th>\n",
       "      <td>...</td>\n",
       "      <td>...</td>\n",
       "      <td>...</td>\n",
       "      <td>...</td>\n",
       "      <td>...</td>\n",
       "      <td>...</td>\n",
       "      <td>...</td>\n",
       "      <td>...</td>\n",
       "      <td>...</td>\n",
       "    </tr>\n",
       "    <tr>\n",
       "      <th>99995</th>\n",
       "      <td>c-5</td>\n",
       "      <td>c-4</td>\n",
       "      <td>c-3</td>\n",
       "      <td>1618</td>\n",
       "      <td>OO</td>\n",
       "      <td>SFO</td>\n",
       "      <td>RDD</td>\n",
       "      <td>199</td>\n",
       "      <td>N</td>\n",
       "    </tr>\n",
       "    <tr>\n",
       "      <th>99996</th>\n",
       "      <td>c-1</td>\n",
       "      <td>c-18</td>\n",
       "      <td>c-3</td>\n",
       "      <td>804</td>\n",
       "      <td>CO</td>\n",
       "      <td>EWR</td>\n",
       "      <td>DAB</td>\n",
       "      <td>884</td>\n",
       "      <td>N</td>\n",
       "    </tr>\n",
       "    <tr>\n",
       "      <th>99997</th>\n",
       "      <td>c-1</td>\n",
       "      <td>c-24</td>\n",
       "      <td>c-2</td>\n",
       "      <td>1901</td>\n",
       "      <td>NW</td>\n",
       "      <td>DTW</td>\n",
       "      <td>IAH</td>\n",
       "      <td>1076</td>\n",
       "      <td>N</td>\n",
       "    </tr>\n",
       "    <tr>\n",
       "      <th>99998</th>\n",
       "      <td>c-4</td>\n",
       "      <td>c-27</td>\n",
       "      <td>c-4</td>\n",
       "      <td>1515</td>\n",
       "      <td>MQ</td>\n",
       "      <td>DFW</td>\n",
       "      <td>GGG</td>\n",
       "      <td>140</td>\n",
       "      <td>N</td>\n",
       "    </tr>\n",
       "    <tr>\n",
       "      <th>99999</th>\n",
       "      <td>c-11</td>\n",
       "      <td>c-17</td>\n",
       "      <td>c-4</td>\n",
       "      <td>1800</td>\n",
       "      <td>WN</td>\n",
       "      <td>SEA</td>\n",
       "      <td>SMF</td>\n",
       "      <td>605</td>\n",
       "      <td>N</td>\n",
       "    </tr>\n",
       "  </tbody>\n",
       "</table>\n",
       "<p>100000 rows × 9 columns</p>\n",
       "</div>"
      ],
      "text/plain": [
       "      Month DayofMonth DayOfWeek  DepTime UniqueCarrier Origin Dest  Distance  \\\n",
       "0       c-8       c-21       c-7     1934            AA    ATL  DFW       732   \n",
       "1       c-4       c-20       c-3     1548            US    PIT  MCO       834   \n",
       "2       c-9        c-2       c-5     1422            XE    RDU  CLE       416   \n",
       "3      c-11       c-25       c-6     1015            OO    DEN  MEM       872   \n",
       "4      c-10        c-7       c-6     1828            WN    MDW  OMA       423   \n",
       "...     ...        ...       ...      ...           ...    ...  ...       ...   \n",
       "99995   c-5        c-4       c-3     1618            OO    SFO  RDD       199   \n",
       "99996   c-1       c-18       c-3      804            CO    EWR  DAB       884   \n",
       "99997   c-1       c-24       c-2     1901            NW    DTW  IAH      1076   \n",
       "99998   c-4       c-27       c-4     1515            MQ    DFW  GGG       140   \n",
       "99999  c-11       c-17       c-4     1800            WN    SEA  SMF       605   \n",
       "\n",
       "      dep_delayed_15min  \n",
       "0                     N  \n",
       "1                     N  \n",
       "2                     N  \n",
       "3                     N  \n",
       "4                     Y  \n",
       "...                 ...  \n",
       "99995                 N  \n",
       "99996                 N  \n",
       "99997                 N  \n",
       "99998                 N  \n",
       "99999                 N  \n",
       "\n",
       "[100000 rows x 9 columns]"
      ]
     },
     "execution_count": 3,
     "metadata": {},
     "output_type": "execute_result"
    }
   ],
   "source": [
    "data_train"
   ]
  },
  {
   "cell_type": "code",
   "execution_count": 4,
   "id": "f48aeb18",
   "metadata": {},
   "outputs": [
    {
     "data": {
      "text/plain": [
       "((100000, 9), (100000, 8))"
      ]
     },
     "execution_count": 4,
     "metadata": {},
     "output_type": "execute_result"
    }
   ],
   "source": [
    "data_train.shape , data_test.shape"
   ]
  },
  {
   "cell_type": "code",
   "execution_count": 5,
   "id": "7bb71133",
   "metadata": {},
   "outputs": [
    {
     "data": {
      "text/plain": [
       "((100000, 8), (100000,))"
      ]
     },
     "execution_count": 5,
     "metadata": {},
     "output_type": "execute_result"
    }
   ],
   "source": [
    "X , y = data_train.drop('dep_delayed_15min',axis=1) , data_train.dep_delayed_15min\n",
    "X.shape , y.shape"
   ]
  },
  {
   "cell_type": "code",
   "execution_count": 6,
   "id": "0cf92483",
   "metadata": {
    "scrolled": true
   },
   "outputs": [
    {
     "name": "stdout",
     "output_type": "stream",
     "text": [
      "<class 'pandas.core.frame.DataFrame'>\n",
      "RangeIndex: 100000 entries, 0 to 99999\n",
      "Data columns (total 8 columns):\n",
      " #   Column         Non-Null Count   Dtype \n",
      "---  ------         --------------   ----- \n",
      " 0   Month          100000 non-null  object\n",
      " 1   DayofMonth     100000 non-null  object\n",
      " 2   DayOfWeek      100000 non-null  object\n",
      " 3   DepTime        100000 non-null  int64 \n",
      " 4   UniqueCarrier  100000 non-null  object\n",
      " 5   Origin         100000 non-null  object\n",
      " 6   Dest           100000 non-null  object\n",
      " 7   Distance       100000 non-null  int64 \n",
      "dtypes: int64(2), object(6)\n",
      "memory usage: 6.1+ MB\n"
     ]
    }
   ],
   "source": [
    "X.info()"
   ]
  },
  {
   "cell_type": "code",
   "execution_count": 7,
   "id": "aa8b05c4",
   "metadata": {},
   "outputs": [
    {
     "data": {
      "text/plain": [
       "(Month            0\n",
       " DayofMonth       0\n",
       " DayOfWeek        0\n",
       " DepTime          0\n",
       " UniqueCarrier    0\n",
       " Origin           0\n",
       " Dest             0\n",
       " Distance         0\n",
       " dtype: int64,\n",
       " 0)"
      ]
     },
     "execution_count": 7,
     "metadata": {},
     "output_type": "execute_result"
    }
   ],
   "source": [
    "X.isna().sum() , y.isna().sum()"
   ]
  },
  {
   "cell_type": "code",
   "execution_count": 8,
   "id": "ebdffc0a",
   "metadata": {},
   "outputs": [
    {
     "data": {
      "text/plain": [
       "(12, 31, 7, 22, 289, 289)"
      ]
     },
     "execution_count": 8,
     "metadata": {},
     "output_type": "execute_result"
    }
   ],
   "source": [
    "X.Month.nunique() , X['DayofMonth'].nunique() , X['DayOfWeek'].nunique() , X['UniqueCarrier'].nunique() , X['Origin'].nunique(),\\\n",
    "X['Dest'].nunique()"
   ]
  },
  {
   "cell_type": "code",
   "execution_count": 9,
   "id": "80c9e8fa",
   "metadata": {
    "scrolled": true
   },
   "outputs": [
    {
     "data": {
      "text/plain": [
       "Index(['Month', 'DayofMonth', 'DayOfWeek', 'DepTime', 'UniqueCarrier',\n",
       "       'Origin', 'Dest', 'Distance'],\n",
       "      dtype='object')"
      ]
     },
     "execution_count": 9,
     "metadata": {},
     "output_type": "execute_result"
    }
   ],
   "source": [
    "X.columns"
   ]
  },
  {
   "cell_type": "code",
   "execution_count": 10,
   "id": "d56d9fd6",
   "metadata": {},
   "outputs": [
    {
     "name": "stdout",
     "output_type": "stream",
     "text": [
      "Wall time: 209 ms\n"
     ]
    }
   ],
   "source": [
    "%%time\n",
    "X = X.join(pd.get_dummies(X['Month'],prefix='Month'))\n",
    "X = X.join(pd.get_dummies(X['DayofMonth'],prefix='DayofMonth'))\n",
    "X = X.join(pd.get_dummies(X['DayOfWeek'],prefix='DayOfWeek'))\n",
    "X = X.join(pd.get_dummies(X['UniqueCarrier'],prefix='UniqueCarrier'))"
   ]
  },
  {
   "cell_type": "code",
   "execution_count": 11,
   "id": "bc90d3d1",
   "metadata": {
    "scrolled": true
   },
   "outputs": [
    {
     "data": {
      "text/plain": [
       "(100000, 80)"
      ]
     },
     "execution_count": 11,
     "metadata": {},
     "output_type": "execute_result"
    }
   ],
   "source": [
    "X.shape"
   ]
  },
  {
   "cell_type": "code",
   "execution_count": 12,
   "id": "056ebe00",
   "metadata": {},
   "outputs": [],
   "source": [
    "X.drop(['Month','DayofMonth','DayOfWeek','UniqueCarrier'],axis=1,inplace=True)"
   ]
  },
  {
   "cell_type": "code",
   "execution_count": 13,
   "id": "94de19e1",
   "metadata": {},
   "outputs": [
    {
     "data": {
      "text/plain": [
       "(100000, 76)"
      ]
     },
     "execution_count": 13,
     "metadata": {},
     "output_type": "execute_result"
    }
   ],
   "source": [
    "X.shape"
   ]
  },
  {
   "cell_type": "code",
   "execution_count": 14,
   "id": "079f1a87",
   "metadata": {
    "scrolled": true
   },
   "outputs": [
    {
     "data": {
      "text/html": [
       "<div>\n",
       "<style scoped>\n",
       "    .dataframe tbody tr th:only-of-type {\n",
       "        vertical-align: middle;\n",
       "    }\n",
       "\n",
       "    .dataframe tbody tr th {\n",
       "        vertical-align: top;\n",
       "    }\n",
       "\n",
       "    .dataframe thead th {\n",
       "        text-align: right;\n",
       "    }\n",
       "</style>\n",
       "<table border=\"1\" class=\"dataframe\">\n",
       "  <thead>\n",
       "    <tr style=\"text-align: right;\">\n",
       "      <th></th>\n",
       "      <th>DepTime</th>\n",
       "      <th>Origin</th>\n",
       "      <th>Dest</th>\n",
       "      <th>Distance</th>\n",
       "      <th>Month_c-1</th>\n",
       "      <th>Month_c-10</th>\n",
       "      <th>Month_c-11</th>\n",
       "      <th>Month_c-12</th>\n",
       "      <th>Month_c-2</th>\n",
       "      <th>Month_c-3</th>\n",
       "      <th>...</th>\n",
       "      <th>UniqueCarrier_MQ</th>\n",
       "      <th>UniqueCarrier_NW</th>\n",
       "      <th>UniqueCarrier_OH</th>\n",
       "      <th>UniqueCarrier_OO</th>\n",
       "      <th>UniqueCarrier_TZ</th>\n",
       "      <th>UniqueCarrier_UA</th>\n",
       "      <th>UniqueCarrier_US</th>\n",
       "      <th>UniqueCarrier_WN</th>\n",
       "      <th>UniqueCarrier_XE</th>\n",
       "      <th>UniqueCarrier_YV</th>\n",
       "    </tr>\n",
       "  </thead>\n",
       "  <tbody>\n",
       "    <tr>\n",
       "      <th>0</th>\n",
       "      <td>1934</td>\n",
       "      <td>ATL</td>\n",
       "      <td>DFW</td>\n",
       "      <td>732</td>\n",
       "      <td>0</td>\n",
       "      <td>0</td>\n",
       "      <td>0</td>\n",
       "      <td>0</td>\n",
       "      <td>0</td>\n",
       "      <td>0</td>\n",
       "      <td>...</td>\n",
       "      <td>0</td>\n",
       "      <td>0</td>\n",
       "      <td>0</td>\n",
       "      <td>0</td>\n",
       "      <td>0</td>\n",
       "      <td>0</td>\n",
       "      <td>0</td>\n",
       "      <td>0</td>\n",
       "      <td>0</td>\n",
       "      <td>0</td>\n",
       "    </tr>\n",
       "    <tr>\n",
       "      <th>1</th>\n",
       "      <td>1548</td>\n",
       "      <td>PIT</td>\n",
       "      <td>MCO</td>\n",
       "      <td>834</td>\n",
       "      <td>0</td>\n",
       "      <td>0</td>\n",
       "      <td>0</td>\n",
       "      <td>0</td>\n",
       "      <td>0</td>\n",
       "      <td>0</td>\n",
       "      <td>...</td>\n",
       "      <td>0</td>\n",
       "      <td>0</td>\n",
       "      <td>0</td>\n",
       "      <td>0</td>\n",
       "      <td>0</td>\n",
       "      <td>0</td>\n",
       "      <td>1</td>\n",
       "      <td>0</td>\n",
       "      <td>0</td>\n",
       "      <td>0</td>\n",
       "    </tr>\n",
       "    <tr>\n",
       "      <th>2</th>\n",
       "      <td>1422</td>\n",
       "      <td>RDU</td>\n",
       "      <td>CLE</td>\n",
       "      <td>416</td>\n",
       "      <td>0</td>\n",
       "      <td>0</td>\n",
       "      <td>0</td>\n",
       "      <td>0</td>\n",
       "      <td>0</td>\n",
       "      <td>0</td>\n",
       "      <td>...</td>\n",
       "      <td>0</td>\n",
       "      <td>0</td>\n",
       "      <td>0</td>\n",
       "      <td>0</td>\n",
       "      <td>0</td>\n",
       "      <td>0</td>\n",
       "      <td>0</td>\n",
       "      <td>0</td>\n",
       "      <td>1</td>\n",
       "      <td>0</td>\n",
       "    </tr>\n",
       "    <tr>\n",
       "      <th>3</th>\n",
       "      <td>1015</td>\n",
       "      <td>DEN</td>\n",
       "      <td>MEM</td>\n",
       "      <td>872</td>\n",
       "      <td>0</td>\n",
       "      <td>0</td>\n",
       "      <td>1</td>\n",
       "      <td>0</td>\n",
       "      <td>0</td>\n",
       "      <td>0</td>\n",
       "      <td>...</td>\n",
       "      <td>0</td>\n",
       "      <td>0</td>\n",
       "      <td>0</td>\n",
       "      <td>1</td>\n",
       "      <td>0</td>\n",
       "      <td>0</td>\n",
       "      <td>0</td>\n",
       "      <td>0</td>\n",
       "      <td>0</td>\n",
       "      <td>0</td>\n",
       "    </tr>\n",
       "    <tr>\n",
       "      <th>4</th>\n",
       "      <td>1828</td>\n",
       "      <td>MDW</td>\n",
       "      <td>OMA</td>\n",
       "      <td>423</td>\n",
       "      <td>0</td>\n",
       "      <td>1</td>\n",
       "      <td>0</td>\n",
       "      <td>0</td>\n",
       "      <td>0</td>\n",
       "      <td>0</td>\n",
       "      <td>...</td>\n",
       "      <td>0</td>\n",
       "      <td>0</td>\n",
       "      <td>0</td>\n",
       "      <td>0</td>\n",
       "      <td>0</td>\n",
       "      <td>0</td>\n",
       "      <td>0</td>\n",
       "      <td>1</td>\n",
       "      <td>0</td>\n",
       "      <td>0</td>\n",
       "    </tr>\n",
       "    <tr>\n",
       "      <th>...</th>\n",
       "      <td>...</td>\n",
       "      <td>...</td>\n",
       "      <td>...</td>\n",
       "      <td>...</td>\n",
       "      <td>...</td>\n",
       "      <td>...</td>\n",
       "      <td>...</td>\n",
       "      <td>...</td>\n",
       "      <td>...</td>\n",
       "      <td>...</td>\n",
       "      <td>...</td>\n",
       "      <td>...</td>\n",
       "      <td>...</td>\n",
       "      <td>...</td>\n",
       "      <td>...</td>\n",
       "      <td>...</td>\n",
       "      <td>...</td>\n",
       "      <td>...</td>\n",
       "      <td>...</td>\n",
       "      <td>...</td>\n",
       "      <td>...</td>\n",
       "    </tr>\n",
       "    <tr>\n",
       "      <th>99995</th>\n",
       "      <td>1618</td>\n",
       "      <td>SFO</td>\n",
       "      <td>RDD</td>\n",
       "      <td>199</td>\n",
       "      <td>0</td>\n",
       "      <td>0</td>\n",
       "      <td>0</td>\n",
       "      <td>0</td>\n",
       "      <td>0</td>\n",
       "      <td>0</td>\n",
       "      <td>...</td>\n",
       "      <td>0</td>\n",
       "      <td>0</td>\n",
       "      <td>0</td>\n",
       "      <td>1</td>\n",
       "      <td>0</td>\n",
       "      <td>0</td>\n",
       "      <td>0</td>\n",
       "      <td>0</td>\n",
       "      <td>0</td>\n",
       "      <td>0</td>\n",
       "    </tr>\n",
       "    <tr>\n",
       "      <th>99996</th>\n",
       "      <td>804</td>\n",
       "      <td>EWR</td>\n",
       "      <td>DAB</td>\n",
       "      <td>884</td>\n",
       "      <td>1</td>\n",
       "      <td>0</td>\n",
       "      <td>0</td>\n",
       "      <td>0</td>\n",
       "      <td>0</td>\n",
       "      <td>0</td>\n",
       "      <td>...</td>\n",
       "      <td>0</td>\n",
       "      <td>0</td>\n",
       "      <td>0</td>\n",
       "      <td>0</td>\n",
       "      <td>0</td>\n",
       "      <td>0</td>\n",
       "      <td>0</td>\n",
       "      <td>0</td>\n",
       "      <td>0</td>\n",
       "      <td>0</td>\n",
       "    </tr>\n",
       "    <tr>\n",
       "      <th>99997</th>\n",
       "      <td>1901</td>\n",
       "      <td>DTW</td>\n",
       "      <td>IAH</td>\n",
       "      <td>1076</td>\n",
       "      <td>1</td>\n",
       "      <td>0</td>\n",
       "      <td>0</td>\n",
       "      <td>0</td>\n",
       "      <td>0</td>\n",
       "      <td>0</td>\n",
       "      <td>...</td>\n",
       "      <td>0</td>\n",
       "      <td>1</td>\n",
       "      <td>0</td>\n",
       "      <td>0</td>\n",
       "      <td>0</td>\n",
       "      <td>0</td>\n",
       "      <td>0</td>\n",
       "      <td>0</td>\n",
       "      <td>0</td>\n",
       "      <td>0</td>\n",
       "    </tr>\n",
       "    <tr>\n",
       "      <th>99998</th>\n",
       "      <td>1515</td>\n",
       "      <td>DFW</td>\n",
       "      <td>GGG</td>\n",
       "      <td>140</td>\n",
       "      <td>0</td>\n",
       "      <td>0</td>\n",
       "      <td>0</td>\n",
       "      <td>0</td>\n",
       "      <td>0</td>\n",
       "      <td>0</td>\n",
       "      <td>...</td>\n",
       "      <td>1</td>\n",
       "      <td>0</td>\n",
       "      <td>0</td>\n",
       "      <td>0</td>\n",
       "      <td>0</td>\n",
       "      <td>0</td>\n",
       "      <td>0</td>\n",
       "      <td>0</td>\n",
       "      <td>0</td>\n",
       "      <td>0</td>\n",
       "    </tr>\n",
       "    <tr>\n",
       "      <th>99999</th>\n",
       "      <td>1800</td>\n",
       "      <td>SEA</td>\n",
       "      <td>SMF</td>\n",
       "      <td>605</td>\n",
       "      <td>0</td>\n",
       "      <td>0</td>\n",
       "      <td>1</td>\n",
       "      <td>0</td>\n",
       "      <td>0</td>\n",
       "      <td>0</td>\n",
       "      <td>...</td>\n",
       "      <td>0</td>\n",
       "      <td>0</td>\n",
       "      <td>0</td>\n",
       "      <td>0</td>\n",
       "      <td>0</td>\n",
       "      <td>0</td>\n",
       "      <td>0</td>\n",
       "      <td>1</td>\n",
       "      <td>0</td>\n",
       "      <td>0</td>\n",
       "    </tr>\n",
       "  </tbody>\n",
       "</table>\n",
       "<p>100000 rows × 76 columns</p>\n",
       "</div>"
      ],
      "text/plain": [
       "       DepTime Origin Dest  Distance  Month_c-1  Month_c-10  Month_c-11  \\\n",
       "0         1934    ATL  DFW       732          0           0           0   \n",
       "1         1548    PIT  MCO       834          0           0           0   \n",
       "2         1422    RDU  CLE       416          0           0           0   \n",
       "3         1015    DEN  MEM       872          0           0           1   \n",
       "4         1828    MDW  OMA       423          0           1           0   \n",
       "...        ...    ...  ...       ...        ...         ...         ...   \n",
       "99995     1618    SFO  RDD       199          0           0           0   \n",
       "99996      804    EWR  DAB       884          1           0           0   \n",
       "99997     1901    DTW  IAH      1076          1           0           0   \n",
       "99998     1515    DFW  GGG       140          0           0           0   \n",
       "99999     1800    SEA  SMF       605          0           0           1   \n",
       "\n",
       "       Month_c-12  Month_c-2  Month_c-3  ...  UniqueCarrier_MQ  \\\n",
       "0               0          0          0  ...                 0   \n",
       "1               0          0          0  ...                 0   \n",
       "2               0          0          0  ...                 0   \n",
       "3               0          0          0  ...                 0   \n",
       "4               0          0          0  ...                 0   \n",
       "...           ...        ...        ...  ...               ...   \n",
       "99995           0          0          0  ...                 0   \n",
       "99996           0          0          0  ...                 0   \n",
       "99997           0          0          0  ...                 0   \n",
       "99998           0          0          0  ...                 1   \n",
       "99999           0          0          0  ...                 0   \n",
       "\n",
       "       UniqueCarrier_NW  UniqueCarrier_OH  UniqueCarrier_OO  UniqueCarrier_TZ  \\\n",
       "0                     0                 0                 0                 0   \n",
       "1                     0                 0                 0                 0   \n",
       "2                     0                 0                 0                 0   \n",
       "3                     0                 0                 1                 0   \n",
       "4                     0                 0                 0                 0   \n",
       "...                 ...               ...               ...               ...   \n",
       "99995                 0                 0                 1                 0   \n",
       "99996                 0                 0                 0                 0   \n",
       "99997                 1                 0                 0                 0   \n",
       "99998                 0                 0                 0                 0   \n",
       "99999                 0                 0                 0                 0   \n",
       "\n",
       "       UniqueCarrier_UA  UniqueCarrier_US  UniqueCarrier_WN  UniqueCarrier_XE  \\\n",
       "0                     0                 0                 0                 0   \n",
       "1                     0                 1                 0                 0   \n",
       "2                     0                 0                 0                 1   \n",
       "3                     0                 0                 0                 0   \n",
       "4                     0                 0                 1                 0   \n",
       "...                 ...               ...               ...               ...   \n",
       "99995                 0                 0                 0                 0   \n",
       "99996                 0                 0                 0                 0   \n",
       "99997                 0                 0                 0                 0   \n",
       "99998                 0                 0                 0                 0   \n",
       "99999                 0                 0                 1                 0   \n",
       "\n",
       "       UniqueCarrier_YV  \n",
       "0                     0  \n",
       "1                     0  \n",
       "2                     0  \n",
       "3                     0  \n",
       "4                     0  \n",
       "...                 ...  \n",
       "99995                 0  \n",
       "99996                 0  \n",
       "99997                 0  \n",
       "99998                 0  \n",
       "99999                 0  \n",
       "\n",
       "[100000 rows x 76 columns]"
      ]
     },
     "execution_count": 14,
     "metadata": {},
     "output_type": "execute_result"
    }
   ],
   "source": [
    "X"
   ]
  },
  {
   "cell_type": "code",
   "execution_count": 15,
   "id": "cc6e1b1d",
   "metadata": {},
   "outputs": [
    {
     "name": "stdout",
     "output_type": "stream",
     "text": [
      "Wall time: 1.23 s\n"
     ]
    }
   ],
   "source": [
    "%%time\n",
    "cv = CountVectorizer()\n",
    "X_origin = cv.fit_transform(X['Origin'])\n",
    "X_dest = cv.fit_transform(X['Dest'])"
   ]
  },
  {
   "cell_type": "code",
   "execution_count": 16,
   "id": "bc6a7cb7",
   "metadata": {},
   "outputs": [
    {
     "data": {
      "text/plain": [
       "((100000, 289), (100000, 289))"
      ]
     },
     "execution_count": 16,
     "metadata": {},
     "output_type": "execute_result"
    }
   ],
   "source": [
    "X_origin.shape , X_dest.shape"
   ]
  },
  {
   "cell_type": "code",
   "execution_count": 17,
   "id": "a59e90ac",
   "metadata": {},
   "outputs": [],
   "source": [
    "X_sparse = csr_matrix(X.drop(['Origin','Dest'],axis=1))"
   ]
  },
  {
   "cell_type": "code",
   "execution_count": 18,
   "id": "1e857cc8",
   "metadata": {},
   "outputs": [
    {
     "data": {
      "text/plain": [
       "(100000, 74)"
      ]
     },
     "execution_count": 18,
     "metadata": {},
     "output_type": "execute_result"
    }
   ],
   "source": [
    "X_sparse.shape"
   ]
  },
  {
   "cell_type": "code",
   "execution_count": 19,
   "id": "b759ec41",
   "metadata": {},
   "outputs": [],
   "source": [
    "X_sparse = hstack([X_sparse,X_origin,X_dest])"
   ]
  },
  {
   "cell_type": "code",
   "execution_count": 20,
   "id": "875eeb35",
   "metadata": {
    "scrolled": true
   },
   "outputs": [
    {
     "data": {
      "text/plain": [
       "<100000x652 sparse matrix of type '<class 'numpy.int64'>'\n",
       "\twith 800000 stored elements in COOrdinate format>"
      ]
     },
     "execution_count": 20,
     "metadata": {},
     "output_type": "execute_result"
    }
   ],
   "source": [
    "X_sparse"
   ]
  },
  {
   "cell_type": "code",
   "execution_count": 21,
   "id": "21e2c662",
   "metadata": {
    "scrolled": true
   },
   "outputs": [],
   "source": [
    "y.loc[y=='N'] = 0\n",
    "y.loc[y=='Y'] = 1\n",
    "y = y.astype('int64')"
   ]
  },
  {
   "cell_type": "code",
   "execution_count": 22,
   "id": "6a4f9ef2",
   "metadata": {
    "scrolled": true
   },
   "outputs": [
    {
     "data": {
      "text/plain": [
       "((70000, 652), (30000, 652), (70000,), (30000,))"
      ]
     },
     "execution_count": 22,
     "metadata": {},
     "output_type": "execute_result"
    }
   ],
   "source": [
    "X_train_sparse , X_valid_sparse , y_train , y_valid = train_test_split(X_sparse,y,test_size=0.3,random_state=17)\n",
    "X_train_sparse.shape , X_valid_sparse.shape , y_train.shape , y_valid.shape"
   ]
  },
  {
   "cell_type": "code",
   "execution_count": 23,
   "id": "fbb3b7d3",
   "metadata": {},
   "outputs": [],
   "source": [
    "X_train_array = X_train_sparse.toarray()\n",
    "X_valid_array = X_valid_sparse.toarray()"
   ]
  },
  {
   "cell_type": "code",
   "execution_count": 24,
   "id": "8ba5e712",
   "metadata": {},
   "outputs": [
    {
     "name": "stdout",
     "output_type": "stream",
     "text": [
      "Wall time: 2.19 s\n"
     ]
    }
   ],
   "source": [
    "%%time\n",
    "scaler = StandardScaler()\n",
    "X_train_array_scaled = scaler.fit_transform(X_train_array)\n",
    "X_valid_array_scaled = scaler.transform(X_valid_array)"
   ]
  },
  {
   "cell_type": "code",
   "execution_count": 25,
   "id": "5d3ba5c0",
   "metadata": {},
   "outputs": [],
   "source": [
    "X_train_sparse_scaled = csr_matrix(X_train_array_scaled)\n",
    "X_valid_sparse_scaled = csr_matrix(X_valid_array_scaled)"
   ]
  },
  {
   "cell_type": "code",
   "execution_count": 26,
   "id": "7a0bbac1",
   "metadata": {},
   "outputs": [
    {
     "data": {
      "text/plain": [
       "(<70000x652 sparse matrix of type '<class 'numpy.float64'>'\n",
       " \twith 45360000 stored elements in Compressed Sparse Row format>,\n",
       " <30000x652 sparse matrix of type '<class 'numpy.float64'>'\n",
       " \twith 19440006 stored elements in Compressed Sparse Row format>)"
      ]
     },
     "execution_count": 26,
     "metadata": {},
     "output_type": "execute_result"
    }
   ],
   "source": [
    "X_train_sparse_scaled , X_valid_sparse_scaled"
   ]
  },
  {
   "cell_type": "code",
   "execution_count": 27,
   "id": "247bc52e",
   "metadata": {
    "scrolled": true
   },
   "outputs": [
    {
     "name": "stdout",
     "output_type": "stream",
     "text": [
      "Wall time: 3.93 s\n"
     ]
    },
    {
     "data": {
      "text/plain": [
       "(0.526573999906788, 0.8125333333333333)"
      ]
     },
     "execution_count": 27,
     "metadata": {},
     "output_type": "execute_result"
    }
   ],
   "source": [
    "%%time\n",
    "log_reg = LogisticRegression()\n",
    "log_reg.fit(X_train_sparse_scaled,y_train)\n",
    "roc_auc_score(y_valid,log_reg.predict(X_valid_sparse_scaled)) , accuracy_score(y_valid,log_reg.predict(X_valid_sparse_scaled))"
   ]
  },
  {
   "cell_type": "code",
   "execution_count": 28,
   "id": "11d0bcff",
   "metadata": {},
   "outputs": [],
   "source": [
    "X_train_gb = xgboost.DMatrix(X_train_sparse,y_train)\n",
    "X_valid_gb = xgboost.DMatrix(X_valid_sparse)"
   ]
  },
  {
   "cell_type": "code",
   "execution_count": 29,
   "id": "1a1c130e",
   "metadata": {},
   "outputs": [
    {
     "name": "stdout",
     "output_type": "stream",
     "text": [
      "Wall time: 465 ms\n"
     ]
    },
    {
     "data": {
      "text/plain": [
       "0.7166402765458822"
      ]
     },
     "execution_count": 29,
     "metadata": {},
     "output_type": "execute_result"
    }
   ],
   "source": [
    "%%time\n",
    "params = {\n",
    "    \n",
    "}\n",
    "xgb = xgboost.train(params=params,dtrain=X_train_gb)\n",
    "roc_auc_score(y_valid,xgb.predict(X_valid_gb))"
   ]
  },
  {
   "cell_type": "code",
   "execution_count": 30,
   "id": "49cb307e",
   "metadata": {
    "scrolled": true
   },
   "outputs": [
    {
     "name": "stdout",
     "output_type": "stream",
     "text": [
      "[07:14:57] WARNING: D:\\bld\\xgboost-split_1634712635879\\work\\src\\learner.cc:1115: Starting in XGBoost 1.3.0, the default evaluation metric used with the objective 'binary:logistic' was changed from 'error' to 'logloss'. Explicitly set eval_metric if you'd like to restore the old behavior.\n",
      "Wall time: 3.82 s\n"
     ]
    },
    {
     "data": {
      "text/plain": [
       "0.5558879976120317"
      ]
     },
     "execution_count": 30,
     "metadata": {},
     "output_type": "execute_result"
    }
   ],
   "source": [
    "%%time\n",
    "xgb_clf = xgboost.XGBClassifier()\n",
    "xgb_clf.fit(X_train_sparse,y_train)\n",
    "roc_auc_score(y_valid,xgb_clf.predict(X_valid_sparse))"
   ]
  },
  {
   "cell_type": "code",
   "execution_count": 31,
   "id": "b79cc2a8",
   "metadata": {},
   "outputs": [
    {
     "name": "stdout",
     "output_type": "stream",
     "text": [
      "Wall time: 6min 8s\n"
     ]
    },
    {
     "data": {
      "text/plain": [
       "0.5268532551029494"
      ]
     },
     "execution_count": 31,
     "metadata": {},
     "output_type": "execute_result"
    }
   ],
   "source": [
    "%%time\n",
    "bagging = BaggingClassifier(base_estimator=LogisticRegression(random_state=17),n_estimators=100,n_jobs=-1)\n",
    "bagging.fit(X_train_sparse_scaled,y_train)\n",
    "roc_auc_score(y_valid,bagging.predict(X_valid_sparse_scaled))"
   ]
  }
 ],
 "metadata": {
  "kernelspec": {
   "display_name": "Python 3",
   "language": "python",
   "name": "python3"
  },
  "language_info": {
   "codemirror_mode": {
    "name": "ipython",
    "version": 3
   },
   "file_extension": ".py",
   "mimetype": "text/x-python",
   "name": "python",
   "nbconvert_exporter": "python",
   "pygments_lexer": "ipython3",
   "version": "3.8.8"
  }
 },
 "nbformat": 4,
 "nbformat_minor": 5
}
